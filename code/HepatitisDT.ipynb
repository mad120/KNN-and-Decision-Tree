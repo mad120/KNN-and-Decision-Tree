{
  "nbformat": 4,
  "nbformat_minor": 0,
  "metadata": {
    "kernelspec": {
      "display_name": "Python 3",
      "language": "python",
      "name": "python3"
    },
    "language_info": {
      "codemirror_mode": {
        "name": "ipython",
        "version": 3
      },
      "file_extension": ".py",
      "mimetype": "text/x-python",
      "name": "python",
      "nbconvert_exporter": "python",
      "pygments_lexer": "ipython3",
      "version": "3.8.5"
    },
    "colab": {
      "name": "HepatitisDT",
      "provenance": [],
      "collapsed_sections": []
    }
  },
  "cells": [
    {
      "cell_type": "markdown",
      "metadata": {
        "id": "Cb1hgpq992UR"
      },
      "source": [
        "# Decision Tree Algorithm "
      ]
    },
    {
      "cell_type": "markdown",
      "metadata": {
        "id": "9czgntjHFFTg"
      },
      "source": [
        "##Initialization"
      ]
    },
    {
      "cell_type": "code",
      "metadata": {
        "id": "tvP8QXcn92US",
        "colab": {
          "base_uri": "https://localhost:8080/"
        },
        "outputId": "5c1f8e45-a87a-400e-b9d4-4ccf396f4dcf"
      },
      "source": [
        "import numpy as np\n",
        "%matplotlib inline\n",
        "import matplotlib.pyplot as plt\n",
        "from IPython.core.debugger import set_trace\n",
        "from sklearn.metrics import classification_report,confusion_matrix\n",
        "np.random.seed(1234)\n",
        "import seaborn as sns\n",
        "\n",
        "import pandas as pd\n",
        "from google.colab import drive\n",
        "drive.mount('/content/drive')"
      ],
      "execution_count": 10,
      "outputs": [
        {
          "output_type": "stream",
          "text": [
            "Drive already mounted at /content/drive; to attempt to forcibly remount, call drive.mount(\"/content/drive\", force_remount=True).\n"
          ],
          "name": "stdout"
        }
      ]
    },
    {
      "cell_type": "markdown",
      "metadata": {
        "id": "z_z4Qs8092UY"
      },
      "source": [
        "## Data structure\n",
        "We use a binary tree to assign information to the nodes of the decision tree. In particular, the instances associated with that node (`data_indices`) and the test that is used to further split that node, in the case non-leaf nodes (`split_feature, split_value`). Here, we assume each test involves a single feature, and all features are real-valued."
      ]
    },
    {
      "cell_type": "code",
      "metadata": {
        "id": "NEwmX3Xi92UY"
      },
      "source": [
        "class Node:\n",
        "    def __init__(self, data_indices, parent):\n",
        "        self.data_indices = data_indices                    #stores the data indices which are in the region defined by this node\n",
        "        self.left = None                                    #stores the left child of the node \n",
        "        self.right = None                                   #stores the right child of the node\n",
        "        self.split_feature = None                           #the feature for split at this node\n",
        "        self.split_value = None                             #the value of the feature for split at this node\n",
        "        if parent:\n",
        "            self.depth = parent.depth + 1                   #obtain the dept of the node by adding one to dept of the parent \n",
        "            self.num_classes = parent.num_classes           #copies the num classes from the parent \n",
        "            self.data = parent.data                         #copies the data from the parent\n",
        "            self.labels = parent.labels                     #copies the labels from the parent\n",
        "            class_prob = np.bincount(self.labels[data_indices], minlength=self.num_classes) #this is counting frequency of different labels in the region defined by this node\n",
        "            self.class_prob = class_prob / np.sum(class_prob)  #stores the class probability for the node\n",
        "            #note that we'll use the class probabilites of the leaf nodes for making predictions after the tree is built"
      ],
      "execution_count": 2,
      "outputs": []
    },
    {
      "cell_type": "markdown",
      "metadata": {
        "id": "W-9QNkez92Ub"
      },
      "source": [
        "## Greedy spliting of a node\n",
        "Given a node, we consider all possible feature-value combinations for splitting the data. One such **test** that produces the lowest cost according to a supplied cost function (`cost_fn`) is returned."
      ]
    },
    {
      "cell_type": "code",
      "metadata": {
        "id": "fJclNLqw92Ub"
      },
      "source": [
        "def greedy_test(node, cost_fn):\n",
        "    #initialize the best parameter values\n",
        "    best_cost = np.inf\n",
        "    best_feature, best_value = None, None\n",
        "    num_instances, num_features = node.data.shape\n",
        "    #sort the features to get the test value candidates by taking the average of consecutive sorted feature values \n",
        "    data_sorted = np.sort(node.data[node.data_indices],axis=0)\n",
        "    test_candidates = (data_sorted[1:] + data_sorted[:-1]) / 2.\n",
        "    for f in range(num_features):\n",
        "        #stores the data corresponding to the f-th feature\n",
        "        data_f = node.data[node.data_indices, f]\n",
        "        for test in test_candidates[:,f]:\n",
        "            #Split the indices using the test value of f-th feature\n",
        "            left_indices = node.data_indices[data_f <= test]\n",
        "            right_indices = node.data_indices[data_f > test]\n",
        "            #we can't have a split where a child has zero element\n",
        "            #if this is true over all the test features and their test values  then the function returns the best cost as infinity\n",
        "            if len(left_indices) == 0 or len(right_indices) == 0:                \n",
        "                continue\n",
        "            #compute the left and right cost based on the current split                                                         \n",
        "            left_cost = cost_fn(node.labels[left_indices])\n",
        "            right_cost = cost_fn(node.labels[right_indices])\n",
        "            num_left, num_right = left_indices.shape[0], right_indices.shape[0]\n",
        "            #get the combined cost using the weighted sum of left and right cost\n",
        "            cost = (num_left * left_cost + num_right * right_cost)/num_instances\n",
        "            #update only when a lower cost is encountered\n",
        "            if cost < best_cost:\n",
        "                best_cost = cost\n",
        "                best_feature = f\n",
        "                best_value = test\n",
        "    return best_cost, best_feature, best_value"
      ],
      "execution_count": 3,
      "outputs": []
    },
    {
      "cell_type": "markdown",
      "metadata": {
        "id": "-GjjJhkb92Ue"
      },
      "source": [
        "## Cost functions\n",
        "\n",
        "Below we implement two cost functions corresponding to misclassification rate and entropy."
      ]
    },
    {
      "cell_type": "code",
      "metadata": {
        "id": "_Fa_FkuK92Uf"
      },
      "source": [
        "#computes misclassification cost by subtracting the maximum probability of any class\n",
        "def cost_misclassification(labels):\n",
        "    counts = np.bincount(labels) \n",
        "    class_probs = counts / np.sum(counts)\n",
        "    #you could compress both the steps above by doing class_probs = np.bincount(labels) / len(labels)\n",
        "    return 1 - np.max(class_probs)\n",
        "\n",
        "#computes entropy of the labels by computing the class probabilities\n",
        "def cost_entropy(labels):\n",
        "    class_probs = np.bincount(labels) / len(labels)\n",
        "    class_probs = class_probs[class_probs > 0]              #this steps is remove 0 probabilities for removing numerical issues while computing log\n",
        "    return -np.sum(class_probs * np.log(class_probs))       #expression for entropy -\\sigma p(x)log[p(x)]\n",
        "\n",
        "#computes the gini index cost\n",
        "def cost_gini_index(labels):\n",
        "    class_probs = np.bincount(labels) / len(labels)\n",
        "    return 1 - np.sum(np.square(class_probs))               #expression for gini index 1-\\sigma p(x)^2"
      ],
      "execution_count": 4,
      "outputs": []
    },
    {
      "cell_type": "markdown",
      "metadata": {
        "id": "PDlnrs8U92Uh"
      },
      "source": [
        "we are now ready to implement the classifier:\n",
        "\n",
        "when to stop splitting?\n",
        "1. if there are not enough points under the current node (`min_leaf_instances`)\n",
        "2. if reached maximum depth (`max_depth`)\n",
        "3. if the decrease in the cost is negligible (not implemented)\n",
        "Below is the template for the class, next we implement `fit` and `predict` methods."
      ]
    },
    {
      "cell_type": "code",
      "metadata": {
        "id": "kMx7Brw292Uh"
      },
      "source": [
        "class DecisionTree:\n",
        "    def __init__(self, num_classes=None, max_depth=3, cost_fn=cost_gini_index, min_leaf_instances=1):\n",
        "        self.max_depth = max_depth      #maximum dept for termination \n",
        "        self.root = None                #stores the root of the decision tree \n",
        "        self.cost_fn = cost_fn          #stores the cost function of the decision tree \n",
        "        self.num_classes = num_classes  #stores the total number of classes\n",
        "        self.min_leaf_instances = min_leaf_instances  #minimum number of instances in a leaf for termination\n",
        "        \n",
        "    def fit(self, data, labels):\n",
        "        pass                            #pass in python 3 means nothing happens and the method here is empty\n",
        "    \n",
        "    def predict(self, data_test):\n",
        "        pass"
      ],
      "execution_count": 5,
      "outputs": []
    },
    {
      "cell_type": "markdown",
      "metadata": {
        "id": "Gbsp5yvB92Ul"
      },
      "source": [
        "## Fit\n",
        "To fit the tree to the data, we call the `_fit_tree` method on the `root_node` of the tree. In this method the _best_ test (split) for the current node is found, and the method is recursively called on the left and right child. If the `max_depth` is reached or the number of instances under the current node is below `min_leaf_instances` the node is not split anymore, resulting in a leaf node."
      ]
    },
    {
      "cell_type": "code",
      "metadata": {
        "id": "-NOsuJEc92Ul"
      },
      "source": [
        "def fit(self, data, labels):\n",
        "    self.data = data\n",
        "    self.labels = labels\n",
        "    if self.num_classes is None:\n",
        "        self.num_classes = np.max(labels) + 1\n",
        "    #below are initialization of the root of the decision tree\n",
        "    self.root = Node(np.arange(data.shape[0]), None)\n",
        "    self.root.data = data\n",
        "    self.root.labels = labels\n",
        "    self.root.num_classes = self.num_classes\n",
        "    self.root.depth = 0\n",
        "    #to recursively build the rest of the tree\n",
        "    self._fit_tree(self.root)\n",
        "    return self\n",
        "\n",
        "def _fit_tree(self, node):\n",
        "    #This gives the condition for termination of the recursion resulting in a leaf node\n",
        "    if node.depth == self.max_depth or len(node.data_indices) <= self.min_leaf_instances:\n",
        "        return\n",
        "    #greedily select the best test by minimizing the cost\n",
        "    cost, split_feature, split_value = greedy_test(node, self.cost_fn)\n",
        "    #if the cost returned is infinity it means that it is not possible to split the node and hence terminate\n",
        "    if np.isinf(cost):\n",
        "        return\n",
        "    #print(f'best feature: {split_feature}, value {split_value}, cost {cost}')\n",
        "    #to get a boolean array suggesting which data indices corresponding to this node are in the left of the split\n",
        "    test = node.data[node.data_indices,split_feature] <= split_value\n",
        "    #store the split feature and value of the node\n",
        "    node.split_feature = split_feature\n",
        "    node.split_value = split_value\n",
        "    #define new nodes which are going to be the left and right child of the present node\n",
        "    left = Node(node.data_indices[test], node)\n",
        "    right = Node(node.data_indices[np.logical_not(test)], node)\n",
        "    #recursive call to the _fit_tree()\n",
        "    self._fit_tree(left)\n",
        "    self._fit_tree(right)\n",
        "    #assign the left and right child to present child\n",
        "    node.left = left\n",
        "    node.right = right\n",
        "\n",
        "DecisionTree.fit = fit\n",
        "DecisionTree._fit_tree = _fit_tree"
      ],
      "execution_count": 6,
      "outputs": []
    },
    {
      "cell_type": "markdown",
      "metadata": {
        "id": "bAZdSNN392Ut"
      },
      "source": [
        "## New predictions\n",
        "Given a new instance, starting from the `root` of the `DecisionTree` we check to see if the instance falls in the left or right split, and repeat the process with left or right node depending on the test, until we reach a leaf node. The class probabilities of the training data under the leaf is returned."
      ]
    },
    {
      "cell_type": "code",
      "metadata": {
        "id": "dLmilufw92Uu"
      },
      "source": [
        "def predict(self, data_test):\n",
        "    class_probs = np.zeros((data_test.shape[0], self.num_classes))\n",
        "    for n, x in enumerate(data_test):\n",
        "        node = self.root\n",
        "        #loop along the dept of the tree looking region where the present data sample fall in based on the split feature and value\n",
        "        while node.left:\n",
        "            if x[node.split_feature] <= node.split_value:\n",
        "                node = node.left\n",
        "            else:\n",
        "                node = node.right\n",
        "        #the loop terminates when you reach a leaf of the tree and the class probability of that node is taken for prediction\n",
        "        class_probs[n,:] = node.class_prob\n",
        "    return class_probs\n",
        "\n",
        "DecisionTree.predict = predict"
      ],
      "execution_count": 7,
      "outputs": []
    },
    {
      "cell_type": "markdown",
      "metadata": {
        "id": "BTBfWt4JfJ6q"
      },
      "source": [
        "# Hepatitis Dataset"
      ]
    },
    {
      "cell_type": "code",
      "metadata": {
        "id": "ecYhiKI9rP9I",
        "colab": {
          "base_uri": "https://localhost:8080/",
          "height": 351
        },
        "outputId": "110bf709-e3ca-4417-e80e-6c1565177e95"
      },
      "source": [
        "path = '/content/drive/MyDrive/COMP551/Proj_1/'\n",
        "\n",
        "df = pd.read_csv(path + 'hepatitis.csv', na_values='?')\n",
        "\n",
        "sns.heatmap(df.corr(\"kendall\"));"
      ],
      "execution_count": 11,
      "outputs": [
        {
          "output_type": "display_data",
          "data": {
            "image/png": "[encoded data removed]",
            "text/plain": [
              "<Figure size 432x288 with 2 Axes>"
            ]
          },
          "metadata": {
            "tags": [],
            "needs_background": "light"
          }
        }
      ]
    },
    {
      "cell_type": "code",
      "metadata": {
        "id": "NEJcRA6ZfLli",
        "colab": {
          "base_uri": "https://localhost:8080/"
        },
        "outputId": "9797ebfb-ef35-4d56-dd8d-393f74659b74"
      },
      "source": [
        "df = pd.read_csv(path + 'hepatitis.csv', na_values='?')\n",
        "df = df[['Class', 'ASCITES', 'ALBUMIN', 'VARICES', 'HISTOLOGY', 'BILIRUBIN', 'SPIDERS']]\n",
        "\n",
        "df['ALBUMIN'].fillna(round(df['ALBUMIN'].mean(), 1), inplace=True)\n",
        "df['BILIRUBIN'].fillna(round(df.BILIRUBIN.mean(), 1), inplace=True)\n",
        "df['ASCITES'].fillna(np.random.randint(1,2), inplace=True)\n",
        "df['VARICES'].fillna(np.random.randint(1,2), inplace=True)\n",
        "df['SPIDERS'].fillna(np.random.randint(1,2), inplace=True)\n",
        "df['HISTOLOGY'].fillna(np.random.randint(1,2), inplace=True)\n",
        "\n",
        "df=(df-df.min())/(df.max()-df.min())\n",
        "\n",
        "df.describe().T\n",
        "\n",
        "X, y = df.iloc[0:,1:7], df.iloc[:,0]\n",
        "\n",
        "X = X.values\n",
        "y = y.values\n",
        "\n",
        "(N,D), C = X.shape, np.max(y) + 1\n",
        "print(f'instances (N) \\t {N} \\n features (D) \\t {D} \\n classes (C) \\t {C}')\n",
        "print(y.shape)\n",
        "\n",
        "\n",
        "X_train, y_train = X[:135], y[:135]\n",
        "X_test, y_test = X[20:], y[20:]"
      ],
      "execution_count": 30,
      "outputs": [
        {
          "output_type": "stream",
          "text": [
            "instances (N) \t 155 \n",
            " features (D) \t 6 \n",
            " classes (C) \t 2.0\n",
            "(155,)\n"
          ],
          "name": "stdout"
        }
      ]
    },
    {
      "cell_type": "code",
      "metadata": {
        "id": "wHUW5_OSIibi",
        "colab": {
          "base_uri": "https://localhost:8080/",
          "height": 257
        },
        "outputId": "50c68d2d-5fa7-44ce-f006-3aaf547acde0"
      },
      "source": [
        "df.describe().T"
      ],
      "execution_count": 13,
      "outputs": [
        {
          "output_type": "execute_result",
          "data": {
            "text/html": [
              "<div>\n",
              "<style scoped>\n",
              "    .dataframe tbody tr th:only-of-type {\n",
              "        vertical-align: middle;\n",
              "    }\n",
              "\n",
              "    .dataframe tbody tr th {\n",
              "        vertical-align: top;\n",
              "    }\n",
              "\n",
              "    .dataframe thead th {\n",
              "        text-align: right;\n",
              "    }\n",
              "</style>\n",
              "<table border=\"1\" class=\"dataframe\">\n",
              "  <thead>\n",
              "    <tr style=\"text-align: right;\">\n",
              "      <th></th>\n",
              "      <th>count</th>\n",
              "      <th>mean</th>\n",
              "      <th>std</th>\n",
              "      <th>min</th>\n",
              "      <th>25%</th>\n",
              "      <th>50%</th>\n",
              "      <th>75%</th>\n",
              "      <th>max</th>\n",
              "    </tr>\n",
              "  </thead>\n",
              "  <tbody>\n",
              "    <tr>\n",
              "      <th>Class</th>\n",
              "      <td>155.0</td>\n",
              "      <td>0.793548</td>\n",
              "      <td>0.406070</td>\n",
              "      <td>0.0</td>\n",
              "      <td>1.000000</td>\n",
              "      <td>1.000000</td>\n",
              "      <td>1.000000</td>\n",
              "      <td>1.0</td>\n",
              "    </tr>\n",
              "    <tr>\n",
              "      <th>ASCITES</th>\n",
              "      <td>155.0</td>\n",
              "      <td>0.838710</td>\n",
              "      <td>0.368991</td>\n",
              "      <td>0.0</td>\n",
              "      <td>1.000000</td>\n",
              "      <td>1.000000</td>\n",
              "      <td>1.000000</td>\n",
              "      <td>1.0</td>\n",
              "    </tr>\n",
              "    <tr>\n",
              "      <th>ALBUMIN</th>\n",
              "      <td>155.0</td>\n",
              "      <td>0.398950</td>\n",
              "      <td>0.143435</td>\n",
              "      <td>0.0</td>\n",
              "      <td>0.325581</td>\n",
              "      <td>0.418605</td>\n",
              "      <td>0.488372</td>\n",
              "      <td>1.0</td>\n",
              "    </tr>\n",
              "    <tr>\n",
              "      <th>VARICES</th>\n",
              "      <td>155.0</td>\n",
              "      <td>0.851613</td>\n",
              "      <td>0.356636</td>\n",
              "      <td>0.0</td>\n",
              "      <td>1.000000</td>\n",
              "      <td>1.000000</td>\n",
              "      <td>1.000000</td>\n",
              "      <td>1.0</td>\n",
              "    </tr>\n",
              "    <tr>\n",
              "      <th>HISTOLOGY</th>\n",
              "      <td>155.0</td>\n",
              "      <td>0.451613</td>\n",
              "      <td>0.499266</td>\n",
              "      <td>0.0</td>\n",
              "      <td>0.000000</td>\n",
              "      <td>0.000000</td>\n",
              "      <td>1.000000</td>\n",
              "      <td>1.0</td>\n",
              "    </tr>\n",
              "    <tr>\n",
              "      <th>BILIRUBIN</th>\n",
              "      <td>155.0</td>\n",
              "      <td>0.146292</td>\n",
              "      <td>0.154326</td>\n",
              "      <td>0.0</td>\n",
              "      <td>0.064935</td>\n",
              "      <td>0.090909</td>\n",
              "      <td>0.155844</td>\n",
              "      <td>1.0</td>\n",
              "    </tr>\n",
              "    <tr>\n",
              "      <th>SPIDERS</th>\n",
              "      <td>155.0</td>\n",
              "      <td>0.638710</td>\n",
              "      <td>0.481932</td>\n",
              "      <td>0.0</td>\n",
              "      <td>0.000000</td>\n",
              "      <td>1.000000</td>\n",
              "      <td>1.000000</td>\n",
              "      <td>1.0</td>\n",
              "    </tr>\n",
              "  </tbody>\n",
              "</table>\n",
              "</div>"
            ],
            "text/plain": [
              "           count      mean       std  min       25%       50%       75%  max\n",
              "Class      155.0  0.793548  0.406070  0.0  1.000000  1.000000  1.000000  1.0\n",
              "ASCITES    155.0  0.838710  0.368991  0.0  1.000000  1.000000  1.000000  1.0\n",
              "ALBUMIN    155.0  0.398950  0.143435  0.0  0.325581  0.418605  0.488372  1.0\n",
              "VARICES    155.0  0.851613  0.356636  0.0  1.000000  1.000000  1.000000  1.0\n",
              "HISTOLOGY  155.0  0.451613  0.499266  0.0  0.000000  0.000000  1.000000  1.0\n",
              "BILIRUBIN  155.0  0.146292  0.154326  0.0  0.064935  0.090909  0.155844  1.0\n",
              "SPIDERS    155.0  0.638710  0.481932  0.0  0.000000  1.000000  1.000000  1.0"
            ]
          },
          "metadata": {
            "tags": []
          },
          "execution_count": 13
        }
      ]
    },
    {
      "cell_type": "code",
      "metadata": {
        "id": "otWeFqOJGdvm",
        "colab": {
          "base_uri": "https://localhost:8080/"
        },
        "outputId": "ad473476-d5ab-46d7-8699-db0206312763"
      },
      "source": [
        "from sklearn import tree\n",
        "for i in range(1,5):\n",
        "  clf = tree.DecisionTreeClassifier(criterion='entropy',max_depth=i)\n",
        "  clf = clf.fit(X_train, y_train)\n",
        "  probs_test = clf.predict(X_test)\n",
        "  print(clf.score(X_test, y_test))"
      ],
      "execution_count": 31,
      "outputs": [
        {
          "output_type": "stream",
          "text": [
            "0.837037037037037\n",
            "0.837037037037037\n",
            "0.8444444444444444\n",
            "0.8740740740740741\n"
          ],
          "name": "stdout"
        }
      ]
    },
    {
      "cell_type": "markdown",
      "metadata": {
        "id": "lwI0gxDidnfX"
      },
      "source": [
        "### Accuracy using Decision Tree (cost function - Misclassification)"
      ]
    },
    {
      "cell_type": "code",
      "metadata": {
        "id": "MuccNTq5eGFo",
        "colab": {
          "base_uri": "https://localhost:8080/"
        },
        "outputId": "a371962d-df85-4ee3-c54e-af691c656d7c"
      },
      "source": [
        "print(\"for missclass\") \n",
        "for i in range(1, 30):\n",
        "  tree = DecisionTree(max_depth=i, cost_fn=cost_misclassification)\n",
        "  probs_test = tree.fit((X_train), y_train.astype(int)).predict(X_test)\n",
        "  y_pred = np.argmax(probs_test,1)\n",
        "  accuracy = np.sum(y_pred == y_test)/y_test.shape[0]\n",
        "  print(\"for\" + str(i))\n",
        "  print(f'accuracy is {accuracy*100:.1f}.')"
      ],
      "execution_count": 38,
      "outputs": [
        {
          "output_type": "stream",
          "text": [
            "for missclass\n",
            "for1\n",
            "accuracy is 83.7.\n",
            "for2\n",
            "accuracy is 83.7.\n",
            "for3\n",
            "accuracy is 85.9.\n",
            "for4\n",
            "accuracy is 88.1.\n",
            "for5\n",
            "accuracy is 88.9.\n",
            "for6\n",
            "accuracy is 88.9.\n",
            "for7\n",
            "accuracy is 90.4.\n",
            "for8\n",
            "accuracy is 90.4.\n",
            "for9\n",
            "accuracy is 90.4.\n",
            "for10\n",
            "accuracy is 91.1.\n",
            "for11\n",
            "accuracy is 91.9.\n",
            "for12\n",
            "accuracy is 91.9.\n",
            "for13\n",
            "accuracy is 92.6.\n",
            "for14\n",
            "accuracy is 94.1.\n",
            "for15\n",
            "accuracy is 94.1.\n",
            "for16\n",
            "accuracy is 94.8.\n",
            "for17\n",
            "accuracy is 94.8.\n",
            "for18\n",
            "accuracy is 94.8.\n",
            "for19\n",
            "accuracy is 94.8.\n",
            "for20\n",
            "accuracy is 94.8.\n",
            "for21\n",
            "accuracy is 94.8.\n",
            "for22\n",
            "accuracy is 94.8.\n",
            "for23\n",
            "accuracy is 94.8.\n",
            "for24\n",
            "accuracy is 94.8.\n",
            "for25\n",
            "accuracy is 94.8.\n",
            "for26\n",
            "accuracy is 94.8.\n",
            "for27\n",
            "accuracy is 94.8.\n",
            "for28\n",
            "accuracy is 94.8.\n",
            "for29\n",
            "accuracy is 94.8.\n"
          ],
          "name": "stdout"
        }
      ]
    },
    {
      "cell_type": "code",
      "metadata": {
        "id": "5LMZYscXVeT8",
        "colab": {
          "base_uri": "https://localhost:8080/"
        },
        "outputId": "977e1517-94e9-42ef-bf06-2eb0666a7d67"
      },
      "source": [
        "tree = DecisionTree(max_depth=16, cost_fn=cost_misclassification)\n",
        "tree.fit(X_train, y_train.astype(int))\n",
        "predictions = tree.predict(X_test)\n",
        "\n",
        "print(\"Confusion Matrix:\")\n",
        "\n",
        "print(confusion_matrix(y_test.astype(int), predictions[:,1].astype(int)))\n",
        "print(\"Classification Report\")\n",
        "print(classification_report(y_test.astype(int), predictions[:,1].astype(int)))\n"
      ],
      "execution_count": 39,
      "outputs": [
        {
          "output_type": "stream",
          "text": [
            "Confusion Matrix:\n",
            "[[27  4]\n",
            " [ 8 96]]\n",
            "Classification Report\n",
            "              precision    recall  f1-score   support\n",
            "\n",
            "           0       0.77      0.87      0.82        31\n",
            "           1       0.96      0.92      0.94       104\n",
            "\n",
            "    accuracy                           0.91       135\n",
            "   macro avg       0.87      0.90      0.88       135\n",
            "weighted avg       0.92      0.91      0.91       135\n",
            "\n"
          ],
          "name": "stdout"
        }
      ]
    },
    {
      "cell_type": "markdown",
      "metadata": {
        "id": "4s1NkTSX4vj8"
      },
      "source": [
        "### Accuracy using Decision Tree (cost function - Cost Entropy)"
      ]
    },
    {
      "cell_type": "code",
      "metadata": {
        "id": "6bugfPQe4yH2",
        "colab": {
          "base_uri": "https://localhost:8080/"
        },
        "outputId": "6f5624c5-ba8a-47f3-c83a-4bdf3acb7b27"
      },
      "source": [
        "print(\"for entropy\") \n",
        "for i in range(1, 30):\n",
        "  tree = DecisionTree(max_depth=i, cost_fn=cost_entropy)\n",
        "  probs_test = tree.fit(X_train,  y_train.astype(int)).predict(X_test)\n",
        "  y_pred = np.argmax(probs_test,1)\n",
        "  accuracy = np.sum(y_pred == y_test)/y_test.shape[0]\n",
        "  print(\"for\" + str(i))\n",
        "  print(f'accuracy is {accuracy*100:.1f}.')\n",
        "\n"
      ],
      "execution_count": 40,
      "outputs": [
        {
          "output_type": "stream",
          "text": [
            "for entropy\n",
            "for1\n",
            "accuracy is 83.7.\n",
            "for2\n",
            "accuracy is 83.7.\n",
            "for3\n",
            "accuracy is 85.2.\n",
            "for4\n",
            "accuracy is 88.1.\n",
            "for5\n",
            "accuracy is 90.4.\n",
            "for6\n",
            "accuracy is 90.4.\n",
            "for7\n",
            "accuracy is 92.6.\n",
            "for8\n",
            "accuracy is 94.1.\n",
            "for9\n",
            "accuracy is 94.8.\n",
            "for10\n",
            "accuracy is 94.8.\n",
            "for11\n",
            "accuracy is 94.8.\n",
            "for12\n",
            "accuracy is 94.8.\n",
            "for13\n",
            "accuracy is 94.8.\n",
            "for14\n",
            "accuracy is 94.8.\n",
            "for15\n",
            "accuracy is 94.8.\n",
            "for16\n",
            "accuracy is 94.8.\n",
            "for17\n",
            "accuracy is 94.8.\n",
            "for18\n",
            "accuracy is 94.8.\n",
            "for19\n",
            "accuracy is 94.8.\n",
            "for20\n",
            "accuracy is 94.8.\n",
            "for21\n",
            "accuracy is 94.8.\n",
            "for22\n",
            "accuracy is 94.8.\n",
            "for23\n",
            "accuracy is 94.8.\n",
            "for24\n",
            "accuracy is 94.8.\n",
            "for25\n",
            "accuracy is 94.8.\n",
            "for26\n",
            "accuracy is 94.8.\n",
            "for27\n",
            "accuracy is 94.8.\n",
            "for28\n",
            "accuracy is 94.8.\n",
            "for29\n",
            "accuracy is 94.8.\n"
          ],
          "name": "stdout"
        }
      ]
    },
    {
      "cell_type": "code",
      "metadata": {
        "colab": {
          "base_uri": "https://localhost:8080/"
        },
        "id": "GAiZJJHcc3Fa",
        "outputId": "f0412131-1944-49cf-8446-008286966a96"
      },
      "source": [
        "tree = DecisionTree(max_depth=16, cost_fn=cost_entropy)\n",
        "tree.fit(X_train, y_train.astype(int))\n",
        "predictions = tree.predict(X_test)\n",
        "\n",
        "print(\"Confusion Matrix:\")\n",
        "\n",
        "print(confusion_matrix(y_test.astype(int), predictions[:,1].astype(int)))\n",
        "print(\"Classification Report\")\n",
        "print(classification_report(y_test.astype(int), predictions[:,1].astype(int)))\n"
      ],
      "execution_count": 42,
      "outputs": [
        {
          "output_type": "stream",
          "text": [
            "Confusion Matrix:\n",
            "[[ 28   3]\n",
            " [  4 100]]\n",
            "Classification Report\n",
            "              precision    recall  f1-score   support\n",
            "\n",
            "           0       0.88      0.90      0.89        31\n",
            "           1       0.97      0.96      0.97       104\n",
            "\n",
            "    accuracy                           0.95       135\n",
            "   macro avg       0.92      0.93      0.93       135\n",
            "weighted avg       0.95      0.95      0.95       135\n",
            "\n"
          ],
          "name": "stdout"
        }
      ]
    },
    {
      "cell_type": "markdown",
      "metadata": {
        "id": "wa7qTebt40-1"
      },
      "source": [
        "### Accuracy using Decision Tree (cost function - Gini Index)"
      ]
    },
    {
      "cell_type": "code",
      "metadata": {
        "id": "YAMwLNjI9ABZ",
        "colab": {
          "base_uri": "https://localhost:8080/"
        },
        "outputId": "35817f30-53a7-4341-9b21-1cc4e8d0c957"
      },
      "source": [
        "print(\"for gini\") \n",
        "for i in range(1, 30):\n",
        "  tree = DecisionTree(max_depth=i, cost_fn=cost_gini_index)\n",
        "  probs_test = tree.fit(X_train, y_train.astype(int)).predict(X_test)\n",
        "  y_pred = np.argmax(probs_test,1)\n",
        "  accuracy = np.sum(y_pred == y_test)/y_test.shape[0]\n",
        "  print(\"for\" + str(i))\n",
        "  print(f'accuracy is {accuracy*100:.1f}.')\n"
      ],
      "execution_count": 43,
      "outputs": [
        {
          "output_type": "stream",
          "text": [
            "for gini\n",
            "for1\n",
            "accuracy is 83.7.\n",
            "for2\n",
            "accuracy is 83.7.\n",
            "for3\n",
            "accuracy is 85.9.\n",
            "for4\n",
            "accuracy is 88.1.\n",
            "for5\n",
            "accuracy is 90.4.\n",
            "for6\n",
            "accuracy is 91.1.\n",
            "for7\n",
            "accuracy is 93.3.\n",
            "for8\n",
            "accuracy is 94.8.\n",
            "for9\n",
            "accuracy is 94.8.\n",
            "for10\n",
            "accuracy is 94.8.\n",
            "for11\n",
            "accuracy is 94.8.\n",
            "for12\n",
            "accuracy is 94.8.\n",
            "for13\n",
            "accuracy is 94.8.\n",
            "for14\n",
            "accuracy is 94.8.\n",
            "for15\n",
            "accuracy is 94.8.\n",
            "for16\n",
            "accuracy is 94.8.\n",
            "for17\n",
            "accuracy is 94.8.\n",
            "for18\n",
            "accuracy is 94.8.\n",
            "for19\n",
            "accuracy is 94.8.\n",
            "for20\n",
            "accuracy is 94.8.\n",
            "for21\n",
            "accuracy is 94.8.\n",
            "for22\n",
            "accuracy is 94.8.\n",
            "for23\n",
            "accuracy is 94.8.\n",
            "for24\n",
            "accuracy is 94.8.\n",
            "for25\n",
            "accuracy is 94.8.\n",
            "for26\n",
            "accuracy is 94.8.\n",
            "for27\n",
            "accuracy is 94.8.\n",
            "for28\n",
            "accuracy is 94.8.\n",
            "for29\n",
            "accuracy is 94.8.\n"
          ],
          "name": "stdout"
        }
      ]
    },
    {
      "cell_type": "code",
      "metadata": {
        "colab": {
          "base_uri": "https://localhost:8080/"
        },
        "id": "kCW1FS18c_zL",
        "outputId": "4ae5c65a-2551-4b58-f19b-1605e859716b"
      },
      "source": [
        "tree = DecisionTree(max_depth=16, cost_fn=cost_gini_index)\n",
        "tree.fit(X_train, y_train.astype(int))\n",
        "predictions = tree.predict(X_test)\n",
        "\n",
        "print(\"Confusion Matrix:\")\n",
        "\n",
        "print(confusion_matrix(y_test.astype(int), predictions[:,1].astype(int)))\n",
        "print(\"Classification Report\")\n",
        "print(classification_report(y_test.astype(int), predictions[:,1].astype(int)))\n"
      ],
      "execution_count": 46,
      "outputs": [
        {
          "output_type": "stream",
          "text": [
            "Confusion Matrix:\n",
            "[[ 28   3]\n",
            " [  4 100]]\n",
            "Classification Report\n",
            "              precision    recall  f1-score   support\n",
            "\n",
            "           0       0.88      0.90      0.89        31\n",
            "           1       0.97      0.96      0.97       104\n",
            "\n",
            "    accuracy                           0.95       135\n",
            "   macro avg       0.92      0.93      0.93       135\n",
            "weighted avg       0.95      0.95      0.95       135\n",
            "\n"
          ],
          "name": "stdout"
        }
      ]
    },
    {
      "cell_type": "code",
      "metadata": {
        "id": "NRrfbVALORaR",
        "colab": {
          "base_uri": "https://localhost:8080/",
          "height": 282
        },
        "outputId": "240df14b-22d7-41bb-eb8b-b481f9eb6922"
      },
      "source": [
        "tree = DecisionTree(max_depth=16)\n",
        "probs_test = tree.fit(X_train, y_train.astype(int)).predict(X_test)\n",
        "y_pred = np.argmax(probs_test,1)\n",
        "accuracy = np.sum(y_pred == y_test)/y_test.shape[0]\n",
        "print(f'accuracy is {accuracy*100:.1f}.')\n",
        "#visualization\n",
        "correct = y_test == y_pred\n",
        "incorrect = np.logical_not(correct)\n",
        "plt.scatter(X_train[:,0], X_train[:,1], c=y_train, marker='o', alpha=1, label='train')\n",
        "plt.scatter(X_test[correct,0], X_test[correct,1], marker='.', c=y_pred[correct], label='correct')\n",
        "plt.scatter(X_test[incorrect,0], X_test[incorrect,1], marker='x', c=y_test[incorrect], label='misclassified', alpha=1)\n",
        "plt.legend()\n",
        "plt.show()"
      ],
      "execution_count": 44,
      "outputs": [
        {
          "output_type": "stream",
          "text": [
            "accuracy is 94.8.\n"
          ],
          "name": "stdout"
        },
        {
          "output_type": "display_data",
          "data": {
            "image/png": "[encoded data removed]",
            "text/plain": [
              "<Figure size 432x288 with 1 Axes>"
            ]
          },
          "metadata": {
            "tags": [],
            "needs_background": "light"
          }
        }
      ]
    },
    {
      "cell_type": "markdown",
      "metadata": {
        "id": "ocunqtE7H5rl"
      },
      "source": [
        "### Decision Boundary for Hepatitis "
      ]
    },
    {
      "cell_type": "code",
      "metadata": {
        "id": "uNtWuiEZ92VF",
        "colab": {
          "base_uri": "https://localhost:8080/",
          "height": 278
        },
        "outputId": "cb88b772-96a5-4f8c-c0e0-31b9dada4813"
      },
      "source": [
        "# print(X[:,4]) # bilirubin\n",
        "# print(X[:,1]) # albumin\n",
        "\n",
        "x0v = np.linspace(np.min(X[:,4]), np.max(X[:,4]), 155)\n",
        "x1v = np.linspace(np.min(X[:,1]), np.max(X[:,1]), 155)\n",
        "x0,x1 = np.meshgrid(x0v, x1v)\n",
        "x_all = np.vstack((x0.ravel(),x1.ravel())).T\n",
        "\n",
        "model = DecisionTree(max_depth=200)\n",
        "\n",
        "y_train_prob = np.zeros((y_train.shape[0], 2))\n",
        "\n",
        "y_train_prob[np.arange(y_train.shape[0]), y_train.astype(int)] = 1\n",
        "X_train_new = X_train[:,[1,4]]\n",
        "y_prob_all = model.fit(X_train_new, y_train.astype(int)).predict(x_all)\n",
        "\n",
        "plt.scatter(X_train_new[:,0], X_train_new[:,1],c=y_train_prob[:,1].astype(int), marker='.', alpha = 2)\n",
        "plt.scatter(x_all[:,0], x_all[:,1], c=y_prob_all[:,0], marker='o', alpha=.009) \n",
        "plt.xlabel('Albumin')\n",
        "plt.ylabel('Bilirubin')\n",
        "\n",
        "plt.show()"
      ],
      "execution_count": 47,
      "outputs": [
        {
          "output_type": "display_data",
          "data": {
            "image/png": "[encoded data removed]",
            "text/plain": [
              "<Figure size 432x288 with 1 Axes>"
            ]
          },
          "metadata": {
            "tags": [],
            "needs_background": "light"
          }
        }
      ]
    }
  ]
}