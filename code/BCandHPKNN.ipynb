{
  "nbformat": 4,
  "nbformat_minor": 0,
  "metadata": {
    "kernelspec": {
      "display_name": "Python 3",
      "language": "python",
      "name": "python3"
    },
    "language_info": {
      "codemirror_mode": {
        "name": "ipython",
        "version": 3
      },
      "file_extension": ".py",
      "mimetype": "text/x-python",
      "name": "python",
      "nbconvert_exporter": "python",
      "pygments_lexer": "ipython3",
      "version": "3.8.3"
    },
    "colab": {
      "name": "new2_withDist_task1_Final_noDBoundary.ipynb",
      "provenance": []
    }
  },
  "cells": [
    {
      "cell_type": "code",
      "metadata": {
        "colab": {
          "base_uri": "https://localhost:8080/"
        },
        "id": "2qO7Wm11JxZt",
        "outputId": "08d9f543-b821-4707-fb49-9ecafadfddf3"
      },
      "source": [
        "import numpy as np\n",
        "import pandas as pd\n",
        "from collections import Counter\n",
        "import seaborn as sns\n",
        "#from sklearn.model_selection import train_test_split\n",
        "from sklearn.metrics import classification_report,confusion_matrix\n",
        "%matplotlib inline\n",
        "from google.colab import drive\n",
        "drive.mount('/content/drive')\n",
        "\n",
        "np.random.seed(1234)\n",
        "\n",
        "#Define the distance formula.\n",
        "def euclidean(x1, x2):\n",
        "   return np.sqrt(np.sum((x1 - x2)**2))\n",
        "\n",
        "def manhattan(x1, x2):\n",
        "   return np.sum(np.abs(x1 - x2)) \n",
        "\n",
        "def evaluate_acc(y_true, y_pred):\n",
        "    accuracy = np.sum(y_true == y_pred) / len(y_true)\n",
        "    return accuracy\n",
        "\n",
        "class KNN:\n",
        "\n",
        "    def __init__(self, k=3):\n",
        "        self.k = k\n",
        "\n",
        "    def fit(self, X, y):\n",
        "        self.X_train = X\n",
        "        self.y_train = y\n",
        "        return self\n",
        "\n",
        "    def predict(self, X, distance=\"euclidean\"):\n",
        "        y_pred = [self.helper_predict(x, distance) for x in X]\n",
        "        return np.array(y_pred)\n",
        "\n",
        "    def helper_predict(self, x, distance):\n",
        "        if (distance == \"euclidean\"):\n",
        "          distances = [euclidean(x, x_train) for x_train in self.X_train]\n",
        "        else:\n",
        "          distances = [manhattan(x, x_train) for x_train in self.X_train]\n",
        "        \n",
        "        k_idx = np.argsort(distances)[:self.k]\n",
        "        \n",
        "        k_neighbor_labels = [self.y_train[i] for i in k_idx]\n",
        "        \n",
        "        most_common = Counter(k_neighbor_labels).most_common(1)\n",
        "        return most_common[0][0]"
      ],
      "execution_count": 3,
      "outputs": [
        {
          "output_type": "stream",
          "text": [
            "Mounted at /content/drive\n"
          ],
          "name": "stdout"
        }
      ]
    },
    {
      "cell_type": "markdown",
      "metadata": {
        "id": "KmD7IzY_J_ew"
      },
      "source": [
        "# Breast Cancer Dataset"
      ]
    },
    {
      "cell_type": "code",
      "metadata": {
        "id": "JOS1tYslJxZ0"
      },
      "source": [
        "raw_df = pd.read_csv(\"/content/drive/MyDrive/COMP551/Proj_1/breast_cancer_wisconsin.csv\")"
      ],
      "execution_count": 41,
      "outputs": []
    },
    {
      "cell_type": "code",
      "metadata": {
        "colab": {
          "base_uri": "https://localhost:8080/",
          "height": 347
        },
        "id": "rCr1eiUoJxZ1",
        "outputId": "c8514fd8-5a87-4369-c09f-2780a86be628"
      },
      "source": [
        "df =raw_df[~raw_df.eq('?').any(1)]\n",
        "\n",
        "#df.drop_duplicates(inplace=True)\n",
        "\n",
        "df = df.apply(pd.to_numeric)\n",
        "\n",
        "df.drop(\"id\",axis=1, inplace=True)\n",
        "df.describe().T"
      ],
      "execution_count": 40,
      "outputs": [
        {
          "output_type": "execute_result",
          "data": {
            "text/html": [
              "<div>\n",
              "<style scoped>\n",
              "    .dataframe tbody tr th:only-of-type {\n",
              "        vertical-align: middle;\n",
              "    }\n",
              "\n",
              "    .dataframe tbody tr th {\n",
              "        vertical-align: top;\n",
              "    }\n",
              "\n",
              "    .dataframe thead th {\n",
              "        text-align: right;\n",
              "    }\n",
              "</style>\n",
              "<table border=\"1\" class=\"dataframe\">\n",
              "  <thead>\n",
              "    <tr style=\"text-align: right;\">\n",
              "      <th></th>\n",
              "      <th>count</th>\n",
              "      <th>mean</th>\n",
              "      <th>std</th>\n",
              "      <th>min</th>\n",
              "      <th>25%</th>\n",
              "      <th>50%</th>\n",
              "      <th>75%</th>\n",
              "      <th>max</th>\n",
              "    </tr>\n",
              "  </thead>\n",
              "  <tbody>\n",
              "    <tr>\n",
              "      <th>Clump_Thickness</th>\n",
              "      <td>683.0</td>\n",
              "      <td>4.442167</td>\n",
              "      <td>2.820761</td>\n",
              "      <td>1.0</td>\n",
              "      <td>2.0</td>\n",
              "      <td>4.0</td>\n",
              "      <td>6.0</td>\n",
              "      <td>10.0</td>\n",
              "    </tr>\n",
              "    <tr>\n",
              "      <th>Uniformity_of_Cell_Size</th>\n",
              "      <td>683.0</td>\n",
              "      <td>3.150805</td>\n",
              "      <td>3.065145</td>\n",
              "      <td>1.0</td>\n",
              "      <td>1.0</td>\n",
              "      <td>1.0</td>\n",
              "      <td>5.0</td>\n",
              "      <td>10.0</td>\n",
              "    </tr>\n",
              "    <tr>\n",
              "      <th>Uniformity_of_Cell_Shape</th>\n",
              "      <td>683.0</td>\n",
              "      <td>3.215227</td>\n",
              "      <td>2.988581</td>\n",
              "      <td>1.0</td>\n",
              "      <td>1.0</td>\n",
              "      <td>1.0</td>\n",
              "      <td>5.0</td>\n",
              "      <td>10.0</td>\n",
              "    </tr>\n",
              "    <tr>\n",
              "      <th>Marginal_Adhesion</th>\n",
              "      <td>683.0</td>\n",
              "      <td>2.830161</td>\n",
              "      <td>2.864562</td>\n",
              "      <td>1.0</td>\n",
              "      <td>1.0</td>\n",
              "      <td>1.0</td>\n",
              "      <td>4.0</td>\n",
              "      <td>10.0</td>\n",
              "    </tr>\n",
              "    <tr>\n",
              "      <th>Single_Epithelial_Cell_Size</th>\n",
              "      <td>683.0</td>\n",
              "      <td>3.234261</td>\n",
              "      <td>2.223085</td>\n",
              "      <td>1.0</td>\n",
              "      <td>2.0</td>\n",
              "      <td>2.0</td>\n",
              "      <td>4.0</td>\n",
              "      <td>10.0</td>\n",
              "    </tr>\n",
              "    <tr>\n",
              "      <th>Bare_Nuclei</th>\n",
              "      <td>683.0</td>\n",
              "      <td>3.544656</td>\n",
              "      <td>3.643857</td>\n",
              "      <td>1.0</td>\n",
              "      <td>1.0</td>\n",
              "      <td>1.0</td>\n",
              "      <td>6.0</td>\n",
              "      <td>10.0</td>\n",
              "    </tr>\n",
              "    <tr>\n",
              "      <th>Bland_Chromatin</th>\n",
              "      <td>683.0</td>\n",
              "      <td>3.445095</td>\n",
              "      <td>2.449697</td>\n",
              "      <td>1.0</td>\n",
              "      <td>2.0</td>\n",
              "      <td>3.0</td>\n",
              "      <td>5.0</td>\n",
              "      <td>10.0</td>\n",
              "    </tr>\n",
              "    <tr>\n",
              "      <th>Normal_Nucleoli</th>\n",
              "      <td>683.0</td>\n",
              "      <td>2.869693</td>\n",
              "      <td>3.052666</td>\n",
              "      <td>1.0</td>\n",
              "      <td>1.0</td>\n",
              "      <td>1.0</td>\n",
              "      <td>4.0</td>\n",
              "      <td>10.0</td>\n",
              "    </tr>\n",
              "    <tr>\n",
              "      <th>Mitoses</th>\n",
              "      <td>683.0</td>\n",
              "      <td>1.603221</td>\n",
              "      <td>1.732674</td>\n",
              "      <td>1.0</td>\n",
              "      <td>1.0</td>\n",
              "      <td>1.0</td>\n",
              "      <td>1.0</td>\n",
              "      <td>10.0</td>\n",
              "    </tr>\n",
              "    <tr>\n",
              "      <th>Class</th>\n",
              "      <td>683.0</td>\n",
              "      <td>2.699854</td>\n",
              "      <td>0.954592</td>\n",
              "      <td>2.0</td>\n",
              "      <td>2.0</td>\n",
              "      <td>2.0</td>\n",
              "      <td>4.0</td>\n",
              "      <td>4.0</td>\n",
              "    </tr>\n",
              "  </tbody>\n",
              "</table>\n",
              "</div>"
            ],
            "text/plain": [
              "                             count      mean       std  ...  50%  75%   max\n",
              "Clump_Thickness              683.0  4.442167  2.820761  ...  4.0  6.0  10.0\n",
              "Uniformity_of_Cell_Size      683.0  3.150805  3.065145  ...  1.0  5.0  10.0\n",
              "Uniformity_of_Cell_Shape     683.0  3.215227  2.988581  ...  1.0  5.0  10.0\n",
              "Marginal_Adhesion            683.0  2.830161  2.864562  ...  1.0  4.0  10.0\n",
              "Single_Epithelial_Cell_Size  683.0  3.234261  2.223085  ...  2.0  4.0  10.0\n",
              "Bare_Nuclei                  683.0  3.544656  3.643857  ...  1.0  6.0  10.0\n",
              "Bland_Chromatin              683.0  3.445095  2.449697  ...  3.0  5.0  10.0\n",
              "Normal_Nucleoli              683.0  2.869693  3.052666  ...  1.0  4.0  10.0\n",
              "Mitoses                      683.0  1.603221  1.732674  ...  1.0  1.0  10.0\n",
              "Class                        683.0  2.699854  0.954592  ...  2.0  4.0   4.0\n",
              "\n",
              "[10 rows x 8 columns]"
            ]
          },
          "metadata": {
            "tags": []
          },
          "execution_count": 40
        }
      ]
    },
    {
      "cell_type": "code",
      "metadata": {
        "colab": {
          "base_uri": "https://localhost:8080/",
          "height": 347
        },
        "id": "CR6sZ4hTJxZ3",
        "outputId": "987e6719-40bf-4da7-f3a2-c2b2cc50495c"
      },
      "source": [
        "df.describe().T"
      ],
      "execution_count": 6,
      "outputs": [
        {
          "output_type": "execute_result",
          "data": {
            "text/html": [
              "<div>\n",
              "<style scoped>\n",
              "    .dataframe tbody tr th:only-of-type {\n",
              "        vertical-align: middle;\n",
              "    }\n",
              "\n",
              "    .dataframe tbody tr th {\n",
              "        vertical-align: top;\n",
              "    }\n",
              "\n",
              "    .dataframe thead th {\n",
              "        text-align: right;\n",
              "    }\n",
              "</style>\n",
              "<table border=\"1\" class=\"dataframe\">\n",
              "  <thead>\n",
              "    <tr style=\"text-align: right;\">\n",
              "      <th></th>\n",
              "      <th>count</th>\n",
              "      <th>mean</th>\n",
              "      <th>std</th>\n",
              "      <th>min</th>\n",
              "      <th>25%</th>\n",
              "      <th>50%</th>\n",
              "      <th>75%</th>\n",
              "      <th>max</th>\n",
              "    </tr>\n",
              "  </thead>\n",
              "  <tbody>\n",
              "    <tr>\n",
              "      <th>Clump_Thickness</th>\n",
              "      <td>683.0</td>\n",
              "      <td>4.442167</td>\n",
              "      <td>2.820761</td>\n",
              "      <td>1.0</td>\n",
              "      <td>2.0</td>\n",
              "      <td>4.0</td>\n",
              "      <td>6.0</td>\n",
              "      <td>10.0</td>\n",
              "    </tr>\n",
              "    <tr>\n",
              "      <th>Uniformity_of_Cell_Size</th>\n",
              "      <td>683.0</td>\n",
              "      <td>3.150805</td>\n",
              "      <td>3.065145</td>\n",
              "      <td>1.0</td>\n",
              "      <td>1.0</td>\n",
              "      <td>1.0</td>\n",
              "      <td>5.0</td>\n",
              "      <td>10.0</td>\n",
              "    </tr>\n",
              "    <tr>\n",
              "      <th>Uniformity_of_Cell_Shape</th>\n",
              "      <td>683.0</td>\n",
              "      <td>3.215227</td>\n",
              "      <td>2.988581</td>\n",
              "      <td>1.0</td>\n",
              "      <td>1.0</td>\n",
              "      <td>1.0</td>\n",
              "      <td>5.0</td>\n",
              "      <td>10.0</td>\n",
              "    </tr>\n",
              "    <tr>\n",
              "      <th>Marginal_Adhesion</th>\n",
              "      <td>683.0</td>\n",
              "      <td>2.830161</td>\n",
              "      <td>2.864562</td>\n",
              "      <td>1.0</td>\n",
              "      <td>1.0</td>\n",
              "      <td>1.0</td>\n",
              "      <td>4.0</td>\n",
              "      <td>10.0</td>\n",
              "    </tr>\n",
              "    <tr>\n",
              "      <th>Single_Epithelial_Cell_Size</th>\n",
              "      <td>683.0</td>\n",
              "      <td>3.234261</td>\n",
              "      <td>2.223085</td>\n",
              "      <td>1.0</td>\n",
              "      <td>2.0</td>\n",
              "      <td>2.0</td>\n",
              "      <td>4.0</td>\n",
              "      <td>10.0</td>\n",
              "    </tr>\n",
              "    <tr>\n",
              "      <th>Bare_Nuclei</th>\n",
              "      <td>683.0</td>\n",
              "      <td>3.544656</td>\n",
              "      <td>3.643857</td>\n",
              "      <td>1.0</td>\n",
              "      <td>1.0</td>\n",
              "      <td>1.0</td>\n",
              "      <td>6.0</td>\n",
              "      <td>10.0</td>\n",
              "    </tr>\n",
              "    <tr>\n",
              "      <th>Bland_Chromatin</th>\n",
              "      <td>683.0</td>\n",
              "      <td>3.445095</td>\n",
              "      <td>2.449697</td>\n",
              "      <td>1.0</td>\n",
              "      <td>2.0</td>\n",
              "      <td>3.0</td>\n",
              "      <td>5.0</td>\n",
              "      <td>10.0</td>\n",
              "    </tr>\n",
              "    <tr>\n",
              "      <th>Normal_Nucleoli</th>\n",
              "      <td>683.0</td>\n",
              "      <td>2.869693</td>\n",
              "      <td>3.052666</td>\n",
              "      <td>1.0</td>\n",
              "      <td>1.0</td>\n",
              "      <td>1.0</td>\n",
              "      <td>4.0</td>\n",
              "      <td>10.0</td>\n",
              "    </tr>\n",
              "    <tr>\n",
              "      <th>Mitoses</th>\n",
              "      <td>683.0</td>\n",
              "      <td>1.603221</td>\n",
              "      <td>1.732674</td>\n",
              "      <td>1.0</td>\n",
              "      <td>1.0</td>\n",
              "      <td>1.0</td>\n",
              "      <td>1.0</td>\n",
              "      <td>10.0</td>\n",
              "    </tr>\n",
              "    <tr>\n",
              "      <th>Class</th>\n",
              "      <td>683.0</td>\n",
              "      <td>2.699854</td>\n",
              "      <td>0.954592</td>\n",
              "      <td>2.0</td>\n",
              "      <td>2.0</td>\n",
              "      <td>2.0</td>\n",
              "      <td>4.0</td>\n",
              "      <td>4.0</td>\n",
              "    </tr>\n",
              "  </tbody>\n",
              "</table>\n",
              "</div>"
            ],
            "text/plain": [
              "                             count      mean       std  ...  50%  75%   max\n",
              "Clump_Thickness              683.0  4.442167  2.820761  ...  4.0  6.0  10.0\n",
              "Uniformity_of_Cell_Size      683.0  3.150805  3.065145  ...  1.0  5.0  10.0\n",
              "Uniformity_of_Cell_Shape     683.0  3.215227  2.988581  ...  1.0  5.0  10.0\n",
              "Marginal_Adhesion            683.0  2.830161  2.864562  ...  1.0  4.0  10.0\n",
              "Single_Epithelial_Cell_Size  683.0  3.234261  2.223085  ...  2.0  4.0  10.0\n",
              "Bare_Nuclei                  683.0  3.544656  3.643857  ...  1.0  6.0  10.0\n",
              "Bland_Chromatin              683.0  3.445095  2.449697  ...  3.0  5.0  10.0\n",
              "Normal_Nucleoli              683.0  2.869693  3.052666  ...  1.0  4.0  10.0\n",
              "Mitoses                      683.0  1.603221  1.732674  ...  1.0  1.0  10.0\n",
              "Class                        683.0  2.699854  0.954592  ...  2.0  4.0   4.0\n",
              "\n",
              "[10 rows x 8 columns]"
            ]
          },
          "metadata": {
            "tags": []
          },
          "execution_count": 6
        }
      ]
    },
    {
      "cell_type": "markdown",
      "metadata": {
        "id": "tuGwU2JdHobp"
      },
      "source": [
        "### Histograms for features used"
      ]
    },
    {
      "cell_type": "code",
      "metadata": {
        "colab": {
          "base_uri": "https://localhost:8080/",
          "height": 296
        },
        "id": "VVDd1JssJxZ4",
        "outputId": "25430af6-64b2-4b53-8e57-84de05b2e5f5"
      },
      "source": [
        "sns.set_style('whitegrid')\n",
        "sns.countplot(x='Class',data=df,palette='RdBu_r')"
      ],
      "execution_count": 7,
      "outputs": [
        {
          "output_type": "execute_result",
          "data": {
            "text/plain": [
              "<matplotlib.axes._subplots.AxesSubplot at 0x7f8cc40868d0>"
            ]
          },
          "metadata": {
            "tags": []
          },
          "execution_count": 7
        },
        {
          "output_type": "display_data",
          "data": {
            "image/png": "[encoded data removed]",
            "text/plain": [
              "<Figure size 432x288 with 1 Axes>"
            ]
          },
          "metadata": {
            "tags": []
          }
        }
      ]
    },
    {
      "cell_type": "code",
      "metadata": {
        "colab": {
          "base_uri": "https://localhost:8080/",
          "height": 297
        },
        "id": "af1ecgOLJxZ4",
        "outputId": "fcf0103b-78cd-48f9-ed88-93e38d88ce9b"
      },
      "source": [
        "sns.set_style('whitegrid')\n",
        "sns.countplot(x='Clump_Thickness',data=df,palette='RdBu_r')"
      ],
      "execution_count": 8,
      "outputs": [
        {
          "output_type": "execute_result",
          "data": {
            "text/plain": [
              "<matplotlib.axes._subplots.AxesSubplot at 0x7f8cc3fd3438>"
            ]
          },
          "metadata": {
            "tags": []
          },
          "execution_count": 8
        },
        {
          "output_type": "display_data",
          "data": {
            "image/png": "[encoded data removed]",
            "text/plain": [
              "<Figure size 432x288 with 1 Axes>"
            ]
          },
          "metadata": {
            "tags": []
          }
        }
      ]
    },
    {
      "cell_type": "code",
      "metadata": {
        "colab": {
          "base_uri": "https://localhost:8080/",
          "height": 297
        },
        "id": "Z8CvNKu1JxZ5",
        "outputId": "c26ee185-67bc-4c9a-c324-2ea817cd4541"
      },
      "source": [
        "sns.set_style('whitegrid')\n",
        "sns.countplot(x='Uniformity_of_Cell_Size',data=df,palette='RdBu_r')"
      ],
      "execution_count": 9,
      "outputs": [
        {
          "output_type": "execute_result",
          "data": {
            "text/plain": [
              "<matplotlib.axes._subplots.AxesSubplot at 0x7f8cc3a97a20>"
            ]
          },
          "metadata": {
            "tags": []
          },
          "execution_count": 9
        },
        {
          "output_type": "display_data",
          "data": {
            "image/png": "[encoded data removed]",
            "text/plain": [
              "<Figure size 432x288 with 1 Axes>"
            ]
          },
          "metadata": {
            "tags": []
          }
        }
      ]
    },
    {
      "cell_type": "code",
      "metadata": {
        "colab": {
          "base_uri": "https://localhost:8080/",
          "height": 297
        },
        "id": "elN736N3JxZ6",
        "outputId": "266fae9b-9faf-44d6-cb21-400943aa4fb2"
      },
      "source": [
        "sns.set_style('whitegrid')\n",
        "sns.countplot(x='Uniformity_of_Cell_Shape',data=df,palette='RdBu_r')\n"
      ],
      "execution_count": 10,
      "outputs": [
        {
          "output_type": "execute_result",
          "data": {
            "text/plain": [
              "<matplotlib.axes._subplots.AxesSubplot at 0x7f8cc3a714a8>"
            ]
          },
          "metadata": {
            "tags": []
          },
          "execution_count": 10
        },
        {
          "output_type": "display_data",
          "data": {
            "image/png": "[encoded data removed]",
            "text/plain": [
              "<Figure size 432x288 with 1 Axes>"
            ]
          },
          "metadata": {
            "tags": []
          }
        }
      ]
    },
    {
      "cell_type": "code",
      "metadata": {
        "colab": {
          "base_uri": "https://localhost:8080/",
          "height": 297
        },
        "id": "FuO3fXFiJxZ6",
        "outputId": "c02c815b-34dd-452d-e8ab-3cd76810324e"
      },
      "source": [
        "sns.set_style('whitegrid')\n",
        "sns.countplot(x='Bare_Nuclei',data=df,palette='RdBu_r')"
      ],
      "execution_count": 11,
      "outputs": [
        {
          "output_type": "execute_result",
          "data": {
            "text/plain": [
              "<matplotlib.axes._subplots.AxesSubplot at 0x7f8cc39985c0>"
            ]
          },
          "metadata": {
            "tags": []
          },
          "execution_count": 11
        },
        {
          "output_type": "display_data",
          "data": {
            "image/png": "[encoded data removed]",
            "text/plain": [
              "<Figure size 432x288 with 1 Axes>"
            ]
          },
          "metadata": {
            "tags": []
          }
        }
      ]
    },
    {
      "cell_type": "code",
      "metadata": {
        "colab": {
          "base_uri": "https://localhost:8080/",
          "height": 297
        },
        "id": "g-8mfhyuJxZ7",
        "outputId": "a3881b62-65e0-4e69-b27c-ae9c534cbf96"
      },
      "source": [
        "sns.set_style('whitegrid')\n",
        "sns.countplot(x='Normal_Nucleoli',data=df,palette='RdBu_r')"
      ],
      "execution_count": 12,
      "outputs": [
        {
          "output_type": "execute_result",
          "data": {
            "text/plain": [
              "<matplotlib.axes._subplots.AxesSubplot at 0x7f8cc3982550>"
            ]
          },
          "metadata": {
            "tags": []
          },
          "execution_count": 12
        },
        {
          "output_type": "display_data",
          "data": {
            "image/png": "[encoded data removed]",
            "text/plain": [
              "<Figure size 432x288 with 1 Axes>"
            ]
          },
          "metadata": {
            "tags": []
          }
        }
      ]
    },
    {
      "cell_type": "code",
      "metadata": {
        "colab": {
          "base_uri": "https://localhost:8080/",
          "height": 296
        },
        "id": "GcdoblkeJxZ8",
        "outputId": "3758585d-8737-425e-fe27-e14b3fa3cc13"
      },
      "source": [
        "sns.set_style('whitegrid')\n",
        "sns.countplot(x='Mitoses',data=df,palette='RdBu_r')\n"
      ],
      "execution_count": 13,
      "outputs": [
        {
          "output_type": "execute_result",
          "data": {
            "text/plain": [
              "<matplotlib.axes._subplots.AxesSubplot at 0x7f8cc3998f60>"
            ]
          },
          "metadata": {
            "tags": []
          },
          "execution_count": 13
        },
        {
          "output_type": "display_data",
          "data": {
            "image/png": "[encoded data removed]",
            "text/plain": [
              "<Figure size 432x288 with 1 Axes>"
            ]
          },
          "metadata": {
            "tags": []
          }
        }
      ]
    },
    {
      "cell_type": "code",
      "metadata": {
        "id": "RBSZ4pB1JxZ8"
      },
      "source": [
        "X, y = df.iloc[0:,0:9], df.iloc[:,9]\n",
        "\n",
        "X=X.values\n",
        "y=y.values\n",
        "\n",
        "(N,D), C = X.shape, np.max(y)+1\n",
        "#print(f'instances (N) \\t {N} \\n features (D) \\t {D} \\n classes (C) \\t {C}')\n",
        "#print(y.shape)\n",
        "\n",
        "def custom_train_and_test_split(X, y):\n",
        "    arrRand = np.random.rand(X.shape[0])\n",
        "    custom_split = arrRand < np.percentile(arrRand, 70)\n",
        "\n",
        "    X_train = X[custom_split]\n",
        "    y_train = y[custom_split]\n",
        "    X_test =  X[~custom_split]\n",
        "    y_test = y[~custom_split]\n",
        "\n",
        "    return X_train, X_test, y_train, y_test\n",
        "\n",
        "X_train, X_test, y_train, y_test = custom_train_and_test_split(X,y)\n",
        "#X_train, X_test, y_train, y_test = train_test_split(X,y,random_state=101,test_size=0.30)"
      ],
      "execution_count": 42,
      "outputs": []
    },
    {
      "cell_type": "markdown",
      "metadata": {
        "id": "wuoI0oh3GPyh"
      },
      "source": [
        "### Accuracy using Euclidean distance"
      ]
    },
    {
      "cell_type": "code",
      "metadata": {
        "colab": {
          "base_uri": "https://localhost:8080/"
        },
        "id": "HoZAPTLuJxZ8",
        "outputId": "17fb53d5-a7e5-4e76-cc2e-de7c69bd2b0a"
      },
      "source": [
        "k = 5\n",
        "\n",
        "for k in range(1,16):\n",
        "    model = KNN(k=k)\n",
        "    model.fit(X_train, y_train)\n",
        "    predictions = model.predict(X_test)\n",
        "    print(\"for k= \",k)\n",
        "    print(\"KNN accuracy: \", evaluate_acc(y_test, predictions))"
      ],
      "execution_count": 43,
      "outputs": [
        {
          "output_type": "stream",
          "text": [
            "for k=  1\n",
            "KNN accuracy:  0.9512195121951219\n",
            "for k=  2\n",
            "KNN accuracy:  0.9512195121951219\n",
            "for k=  3\n",
            "KNN accuracy:  0.975609756097561\n",
            "for k=  4\n",
            "KNN accuracy:  0.9658536585365853\n",
            "for k=  5\n",
            "KNN accuracy:  0.975609756097561\n",
            "for k=  6\n",
            "KNN accuracy:  0.975609756097561\n",
            "for k=  7\n",
            "KNN accuracy:  0.9707317073170731\n",
            "for k=  8\n",
            "KNN accuracy:  0.9707317073170731\n",
            "for k=  9\n",
            "KNN accuracy:  0.975609756097561\n",
            "for k=  10\n",
            "KNN accuracy:  0.9707317073170731\n",
            "for k=  11\n",
            "KNN accuracy:  0.9707317073170731\n",
            "for k=  12\n",
            "KNN accuracy:  0.9707317073170731\n",
            "for k=  13\n",
            "KNN accuracy:  0.9707317073170731\n",
            "for k=  14\n",
            "KNN accuracy:  0.9707317073170731\n",
            "for k=  15\n",
            "KNN accuracy:  0.9658536585365853\n"
          ],
          "name": "stdout"
        }
      ]
    },
    {
      "cell_type": "markdown",
      "metadata": {
        "id": "g6AQy_VCIKUe"
      },
      "source": [
        "#### Confusion matrix"
      ]
    },
    {
      "cell_type": "code",
      "metadata": {
        "colab": {
          "base_uri": "https://localhost:8080/"
        },
        "id": "OC1S_WclJxZ8",
        "outputId": "05b4266a-cf7b-4b9a-efa3-040ddaa2b6ae"
      },
      "source": [
        "model = KNN(k=5)\n",
        "\n",
        "model.fit(X_train, y_train)\n",
        "predictions = model.predict(X_test)\n",
        "\n",
        "print(\"Confusion Matrix:\")\n",
        "print(y_test.shape)\n",
        "print(predictions)\n",
        "print(confusion_matrix(y_test,predictions))\n",
        "print(\"====\")\n",
        "print(\"Classification Report\")\n",
        "print(classification_report(y_test,predictions))"
      ],
      "execution_count": 48,
      "outputs": [
        {
          "output_type": "stream",
          "text": [
            "Confusion Matrix:\n",
            "(205,)\n",
            "[4 2 2 2 2 4 2 4 2 2 2 4 4 2 4 4 4 2 2 2 2 4 2 2 2 4 2 4 4 4 2 2 2 4 4 4 2\n",
            " 2 2 4 2 2 4 4 2 2 2 2 2 2 4 4 4 2 4 4 4 2 2 2 4 4 2 2 4 4 2 2 2 4 4 2 2 2\n",
            " 2 4 2 2 4 4 2 4 4 2 4 4 4 4 2 2 2 2 2 2 4 2 4 2 2 2 2 2 2 4 4 2 2 2 2 2 2\n",
            " 4 2 2 2 4 2 2 2 2 2 2 4 4 4 2 2 4 2 2 2 2 2 4 2 2 2 2 2 4 4 2 4 4 2 2 2 2\n",
            " 4 2 2 2 2 2 4 2 2 4 2 2 2 2 2 4 2 2 2 2 2 2 4 4 4 2 2 4 2 2 4 2 2 4 2 2 2\n",
            " 2 2 4 4 2 2 2 2 4 2 2 2 4 2 2 2 2 2 2 2]\n",
            "[[134   3]\n",
            " [  2  66]]\n",
            "====\n",
            "Classification Report\n",
            "              precision    recall  f1-score   support\n",
            "\n",
            "           2       0.99      0.98      0.98       137\n",
            "           4       0.96      0.97      0.96        68\n",
            "\n",
            "    accuracy                           0.98       205\n",
            "   macro avg       0.97      0.97      0.97       205\n",
            "weighted avg       0.98      0.98      0.98       205\n",
            "\n"
          ],
          "name": "stdout"
        }
      ]
    },
    {
      "cell_type": "markdown",
      "metadata": {
        "id": "tfTqeQLGGTrV"
      },
      "source": [
        "### Accuracy using Manhattan distance"
      ]
    },
    {
      "cell_type": "code",
      "metadata": {
        "colab": {
          "base_uri": "https://localhost:8080/"
        },
        "id": "Q2py7NztGhgZ",
        "outputId": "3581bc58-af8f-4420-ca4f-8d8c0f856a1d"
      },
      "source": [
        "k = 5\n",
        "\n",
        "for k in range(1,16):\n",
        "    model = KNN(k=k)\n",
        "    model.fit(X_train, y_train)\n",
        "    predictions = model.predict(X_test, \"manhattan\")\n",
        "    print(\"for k= \",k)\n",
        "    print(\"KNN accuracy: \", evaluate_acc(y_test, predictions))"
      ],
      "execution_count": 17,
      "outputs": [
        {
          "output_type": "stream",
          "text": [
            "for k=  1\n",
            "KNN accuracy:  0.9609756097560975\n",
            "for k=  2\n",
            "KNN accuracy:  0.9609756097560975\n",
            "for k=  3\n",
            "KNN accuracy:  0.9707317073170731\n",
            "for k=  4\n",
            "KNN accuracy:  0.9658536585365853\n",
            "for k=  5\n",
            "KNN accuracy:  0.9707317073170731\n",
            "for k=  6\n",
            "KNN accuracy:  0.975609756097561\n",
            "for k=  7\n",
            "KNN accuracy:  0.9658536585365853\n",
            "for k=  8\n",
            "KNN accuracy:  0.975609756097561\n",
            "for k=  9\n",
            "KNN accuracy:  0.9707317073170731\n",
            "for k=  10\n",
            "KNN accuracy:  0.9707317073170731\n",
            "for k=  11\n",
            "KNN accuracy:  0.9658536585365853\n",
            "for k=  12\n",
            "KNN accuracy:  0.9658536585365853\n",
            "for k=  13\n",
            "KNN accuracy:  0.9707317073170731\n",
            "for k=  14\n",
            "KNN accuracy:  0.9707317073170731\n",
            "for k=  15\n",
            "KNN accuracy:  0.9560975609756097\n"
          ],
          "name": "stdout"
        }
      ]
    },
    {
      "cell_type": "markdown",
      "metadata": {
        "id": "5JGlnTQjI7NV"
      },
      "source": [
        "#### Confusion Matrix"
      ]
    },
    {
      "cell_type": "code",
      "metadata": {
        "colab": {
          "base_uri": "https://localhost:8080/"
        },
        "id": "rwxl8nA3GkqK",
        "outputId": "259ffa1e-8942-4590-edb6-d5826c992054"
      },
      "source": [
        "model = KNN(k=6)\n",
        "model.fit(X_train, y_train)\n",
        "predictions = model.predict(X_test)\n",
        "print(\"Confusion Matrix:\")\n",
        "print(confusion_matrix(y_test,predictions))\n",
        "print(\"====\")\n",
        "print(\"Classification Report\")\n",
        "print(classification_report(y_test,predictions))"
      ],
      "execution_count": 18,
      "outputs": [
        {
          "output_type": "stream",
          "text": [
            "Confusion Matrix:\n",
            "[[134   3]\n",
            " [  2  66]]\n",
            "====\n",
            "Classification Report\n",
            "              precision    recall  f1-score   support\n",
            "\n",
            "           2       0.99      0.98      0.98       137\n",
            "           4       0.96      0.97      0.96        68\n",
            "\n",
            "    accuracy                           0.98       205\n",
            "   macro avg       0.97      0.97      0.97       205\n",
            "weighted avg       0.98      0.98      0.98       205\n",
            "\n"
          ],
          "name": "stdout"
        }
      ]
    },
    {
      "cell_type": "markdown",
      "metadata": {
        "id": "Pb5p0zoCJPpK"
      },
      "source": [
        "### Accuracy from sci-kit learn"
      ]
    },
    {
      "cell_type": "code",
      "metadata": {
        "colab": {
          "base_uri": "https://localhost:8080/"
        },
        "id": "Zk-NZ5q0JPE7",
        "outputId": "a0032254-504e-4177-fc55-d9b08ada0d81"
      },
      "source": [
        "from sklearn.neighbors import KNeighborsClassifier\n",
        "neigh = KNeighborsClassifier(n_neighbors=1)\n",
        "neigh.fit(X_train, y_train)\n",
        "\n",
        "print(neigh.score(X_test, y_test))"
      ],
      "execution_count": 19,
      "outputs": [
        {
          "output_type": "stream",
          "text": [
            "0.9512195121951219\n"
          ],
          "name": "stdout"
        }
      ]
    },
    {
      "cell_type": "markdown",
      "metadata": {
        "id": "q22K91bAIoVD"
      },
      "source": [
        "### Decision Boundaries"
      ]
    },
    {
      "cell_type": "markdown",
      "metadata": {
        "id": "BhC45x1HJ52C"
      },
      "source": [
        "# Hepatitis Dataset"
      ]
    },
    {
      "cell_type": "code",
      "metadata": {
        "colab": {
          "base_uri": "https://localhost:8080/"
        },
        "id": "o3RYYa1fKlb7",
        "outputId": "b5f4830d-0737-44dd-9a37-41928c2bd31c"
      },
      "source": [
        "from google.colab import drive\n",
        "drive.mount('/content/drive')\n",
        "np.random.seed(1234)\n",
        "import pandas as pd\n",
        "\n",
        "path = '/content/drive/MyDrive/COMP551/Proj_1/'"
      ],
      "execution_count": 20,
      "outputs": [
        {
          "output_type": "stream",
          "text": [
            "Drive already mounted at /content/drive; to attempt to forcibly remount, call drive.mount(\"/content/drive\", force_remount=True).\n"
          ],
          "name": "stdout"
        }
      ]
    },
    {
      "cell_type": "code",
      "metadata": {
        "id": "APruOBlwMTeh"
      },
      "source": [
        "df_hep = pd.read_csv(path + 'hepatitis.csv', na_values='?')\n",
        "\n",
        "df_hep['ALBUMIN'].fillna(round(df_hep['ALBUMIN'].mean(), 1), inplace=True)\n",
        "df_hep['BILIRUBIN'].fillna(round(df_hep.BILIRUBIN.mean(), 1), inplace=True)\n",
        "df_hep['ASCITES'].fillna(np.random.randint(1,2), inplace=True)\n",
        "df_hep['VARICES'].fillna(np.random.randint(1,2), inplace=True)\n",
        "df_hep['SPIDERS'].fillna(np.random.randint(1,2), inplace=True)\n",
        "df_hep['HISTOLOGY'].fillna(np.random.randint(1,2), inplace=True)\n",
        "\n",
        "df_hep=(df_hep-df_hep.min())/(df_hep.max()-df_hep.min())\n",
        "\n",
        "X = df_hep[['ALBUMIN', 'BILIRUBIN', 'ASCITES', 'VARICES', 'SPIDERS', 'HISTOLOGY']]\n",
        "y = df_hep.iloc[:,0]\n",
        "\n",
        "X = X.values\n",
        "y = y.values"
      ],
      "execution_count": 21,
      "outputs": []
    },
    {
      "cell_type": "code",
      "metadata": {
        "colab": {
          "base_uri": "https://localhost:8080/",
          "height": 406
        },
        "id": "LnmWDp3IdndX",
        "outputId": "6e42f501-9421-43b4-e65f-81131746c29f"
      },
      "source": [
        "df_hep[['ALBUMIN', 'BILIRUBIN', 'ASCITES', 'VARICES', 'SPIDERS', 'HISTOLOGY']]"
      ],
      "execution_count": 22,
      "outputs": [
        {
          "output_type": "execute_result",
          "data": {
            "text/html": [
              "<div>\n",
              "<style scoped>\n",
              "    .dataframe tbody tr th:only-of-type {\n",
              "        vertical-align: middle;\n",
              "    }\n",
              "\n",
              "    .dataframe tbody tr th {\n",
              "        vertical-align: top;\n",
              "    }\n",
              "\n",
              "    .dataframe thead th {\n",
              "        text-align: right;\n",
              "    }\n",
              "</style>\n",
              "<table border=\"1\" class=\"dataframe\">\n",
              "  <thead>\n",
              "    <tr style=\"text-align: right;\">\n",
              "      <th></th>\n",
              "      <th>ALBUMIN</th>\n",
              "      <th>BILIRUBIN</th>\n",
              "      <th>ASCITES</th>\n",
              "      <th>VARICES</th>\n",
              "      <th>SPIDERS</th>\n",
              "      <th>HISTOLOGY</th>\n",
              "    </tr>\n",
              "  </thead>\n",
              "  <tbody>\n",
              "    <tr>\n",
              "      <th>0</th>\n",
              "      <td>0.441860</td>\n",
              "      <td>0.090909</td>\n",
              "      <td>1.0</td>\n",
              "      <td>1.0</td>\n",
              "      <td>1.0</td>\n",
              "      <td>0.0</td>\n",
              "    </tr>\n",
              "    <tr>\n",
              "      <th>1</th>\n",
              "      <td>0.325581</td>\n",
              "      <td>0.077922</td>\n",
              "      <td>1.0</td>\n",
              "      <td>1.0</td>\n",
              "      <td>1.0</td>\n",
              "      <td>0.0</td>\n",
              "    </tr>\n",
              "    <tr>\n",
              "      <th>2</th>\n",
              "      <td>0.441860</td>\n",
              "      <td>0.051948</td>\n",
              "      <td>1.0</td>\n",
              "      <td>1.0</td>\n",
              "      <td>1.0</td>\n",
              "      <td>0.0</td>\n",
              "    </tr>\n",
              "    <tr>\n",
              "      <th>3</th>\n",
              "      <td>0.441860</td>\n",
              "      <td>0.051948</td>\n",
              "      <td>1.0</td>\n",
              "      <td>1.0</td>\n",
              "      <td>1.0</td>\n",
              "      <td>0.0</td>\n",
              "    </tr>\n",
              "    <tr>\n",
              "      <th>4</th>\n",
              "      <td>0.441860</td>\n",
              "      <td>0.090909</td>\n",
              "      <td>1.0</td>\n",
              "      <td>1.0</td>\n",
              "      <td>1.0</td>\n",
              "      <td>0.0</td>\n",
              "    </tr>\n",
              "    <tr>\n",
              "      <th>...</th>\n",
              "      <td>...</td>\n",
              "      <td>...</td>\n",
              "      <td>...</td>\n",
              "      <td>...</td>\n",
              "      <td>...</td>\n",
              "      <td>...</td>\n",
              "    </tr>\n",
              "    <tr>\n",
              "      <th>150</th>\n",
              "      <td>0.279070</td>\n",
              "      <td>0.948052</td>\n",
              "      <td>0.0</td>\n",
              "      <td>0.0</td>\n",
              "      <td>0.0</td>\n",
              "      <td>1.0</td>\n",
              "    </tr>\n",
              "    <tr>\n",
              "      <th>151</th>\n",
              "      <td>0.511628</td>\n",
              "      <td>0.077922</td>\n",
              "      <td>1.0</td>\n",
              "      <td>1.0</td>\n",
              "      <td>1.0</td>\n",
              "      <td>1.0</td>\n",
              "    </tr>\n",
              "    <tr>\n",
              "      <th>152</th>\n",
              "      <td>0.465116</td>\n",
              "      <td>0.064935</td>\n",
              "      <td>1.0</td>\n",
              "      <td>1.0</td>\n",
              "      <td>0.0</td>\n",
              "      <td>1.0</td>\n",
              "    </tr>\n",
              "    <tr>\n",
              "      <th>153</th>\n",
              "      <td>0.465116</td>\n",
              "      <td>0.155844</td>\n",
              "      <td>1.0</td>\n",
              "      <td>0.0</td>\n",
              "      <td>0.0</td>\n",
              "      <td>1.0</td>\n",
              "    </tr>\n",
              "    <tr>\n",
              "      <th>154</th>\n",
              "      <td>0.232558</td>\n",
              "      <td>0.116883</td>\n",
              "      <td>0.0</td>\n",
              "      <td>1.0</td>\n",
              "      <td>0.0</td>\n",
              "      <td>1.0</td>\n",
              "    </tr>\n",
              "  </tbody>\n",
              "</table>\n",
              "<p>155 rows × 6 columns</p>\n",
              "</div>"
            ],
            "text/plain": [
              "      ALBUMIN  BILIRUBIN  ASCITES  VARICES  SPIDERS  HISTOLOGY\n",
              "0    0.441860   0.090909      1.0      1.0      1.0        0.0\n",
              "1    0.325581   0.077922      1.0      1.0      1.0        0.0\n",
              "2    0.441860   0.051948      1.0      1.0      1.0        0.0\n",
              "3    0.441860   0.051948      1.0      1.0      1.0        0.0\n",
              "4    0.441860   0.090909      1.0      1.0      1.0        0.0\n",
              "..        ...        ...      ...      ...      ...        ...\n",
              "150  0.279070   0.948052      0.0      0.0      0.0        1.0\n",
              "151  0.511628   0.077922      1.0      1.0      1.0        1.0\n",
              "152  0.465116   0.064935      1.0      1.0      0.0        1.0\n",
              "153  0.465116   0.155844      1.0      0.0      0.0        1.0\n",
              "154  0.232558   0.116883      0.0      1.0      0.0        1.0\n",
              "\n",
              "[155 rows x 6 columns]"
            ]
          },
          "metadata": {
            "tags": []
          },
          "execution_count": 22
        }
      ]
    },
    {
      "cell_type": "markdown",
      "metadata": {
        "id": "sUFeV5WvIYzG"
      },
      "source": [
        "### Histograms for features used"
      ]
    },
    {
      "cell_type": "code",
      "metadata": {
        "id": "jW80_twOUDyV",
        "colab": {
          "base_uri": "https://localhost:8080/",
          "height": 296
        },
        "outputId": "b3a86e8a-e95c-4526-c1a1-6e448569593e"
      },
      "source": [
        "sns.set_style('whitegrid')\n",
        "sns.countplot(x='Class',data=df_hep,palette='RdBu_r')"
      ],
      "execution_count": 23,
      "outputs": [
        {
          "output_type": "execute_result",
          "data": {
            "text/plain": [
              "<matplotlib.axes._subplots.AxesSubplot at 0x7f8cc12a4e48>"
            ]
          },
          "metadata": {
            "tags": []
          },
          "execution_count": 23
        },
        {
          "output_type": "display_data",
          "data": {
            "image/png": "[encoded data removed]",
            "text/plain": [
              "<Figure size 432x288 with 1 Axes>"
            ]
          },
          "metadata": {
            "tags": []
          }
        }
      ]
    },
    {
      "cell_type": "code",
      "metadata": {
        "id": "67l8C3G5VXB1",
        "colab": {
          "base_uri": "https://localhost:8080/",
          "height": 297
        },
        "outputId": "8c0ff797-8b55-4bcb-bf9d-9dccd4e6666b"
      },
      "source": [
        "import matplotlib.pyplot as plt\n",
        "\n",
        "sns.set_style('whitegrid')\n",
        "sns.countplot(x='BILIRUBIN',data=df_hep,palette='RdBu_r')"
      ],
      "execution_count": 24,
      "outputs": [
        {
          "output_type": "execute_result",
          "data": {
            "text/plain": [
              "<matplotlib.axes._subplots.AxesSubplot at 0x7f8cbfdd9748>"
            ]
          },
          "metadata": {
            "tags": []
          },
          "execution_count": 24
        },
        {
          "output_type": "display_data",
          "data": {
            "image/png": "[encoded data removed]",
            "text/plain": [
              "<Figure size 432x288 with 1 Axes>"
            ]
          },
          "metadata": {
            "tags": []
          }
        }
      ]
    },
    {
      "cell_type": "code",
      "metadata": {
        "id": "fEL8FMNDWZPu",
        "colab": {
          "base_uri": "https://localhost:8080/",
          "height": 296
        },
        "outputId": "7b085159-2b1b-4621-ffbf-0d407b948632"
      },
      "source": [
        "import matplotlib.pyplot as plt\n",
        "\n",
        "sns.set_style('whitegrid')\n",
        "sns.countplot(x='ALBUMIN',data=df_hep,palette='RdBu_r')"
      ],
      "execution_count": 25,
      "outputs": [
        {
          "output_type": "execute_result",
          "data": {
            "text/plain": [
              "<matplotlib.axes._subplots.AxesSubplot at 0x7f8cbfceff98>"
            ]
          },
          "metadata": {
            "tags": []
          },
          "execution_count": 25
        },
        {
          "output_type": "display_data",
          "data": {
            "image/png": "[encoded data removed]",
            "text/plain": [
              "<Figure size 432x288 with 1 Axes>"
            ]
          },
          "metadata": {
            "tags": []
          }
        }
      ]
    },
    {
      "cell_type": "code",
      "metadata": {
        "id": "YJ7-TKE-WcF1",
        "colab": {
          "base_uri": "https://localhost:8080/",
          "height": 296
        },
        "outputId": "51e2429f-f10c-4ea1-b063-46e0d3696fb7"
      },
      "source": [
        "import matplotlib.pyplot as plt\n",
        "\n",
        "sns.set_style('whitegrid')\n",
        "sns.countplot(x='ASCITES',data=df_hep,palette='RdBu_r')"
      ],
      "execution_count": 26,
      "outputs": [
        {
          "output_type": "execute_result",
          "data": {
            "text/plain": [
              "<matplotlib.axes._subplots.AxesSubplot at 0x7f8cbfdedfd0>"
            ]
          },
          "metadata": {
            "tags": []
          },
          "execution_count": 26
        },
        {
          "output_type": "display_data",
          "data": {
            "image/png": "[encoded data removed]",
            "text/plain": [
              "<Figure size 432x288 with 1 Axes>"
            ]
          },
          "metadata": {
            "tags": []
          }
        }
      ]
    },
    {
      "cell_type": "code",
      "metadata": {
        "id": "RmNQpjH3WhLJ",
        "colab": {
          "base_uri": "https://localhost:8080/",
          "height": 296
        },
        "outputId": "0c86c361-8b3c-435a-b632-1e6209cc32f2"
      },
      "source": [
        "import matplotlib.pyplot as plt\n",
        "\n",
        "sns.set_style('whitegrid')\n",
        "sns.countplot(x='VARICES',data=df_hep,palette='RdBu_r')"
      ],
      "execution_count": 27,
      "outputs": [
        {
          "output_type": "execute_result",
          "data": {
            "text/plain": [
              "<matplotlib.axes._subplots.AxesSubplot at 0x7f8cbfbf1a90>"
            ]
          },
          "metadata": {
            "tags": []
          },
          "execution_count": 27
        },
        {
          "output_type": "display_data",
          "data": {
            "image/png": "[encoded data removed]",
            "text/plain": [
              "<Figure size 432x288 with 1 Axes>"
            ]
          },
          "metadata": {
            "tags": []
          }
        }
      ]
    },
    {
      "cell_type": "code",
      "metadata": {
        "id": "mkNpUm6PWjuK",
        "colab": {
          "base_uri": "https://localhost:8080/",
          "height": 296
        },
        "outputId": "91fd9108-8a85-48d5-d890-1913e95470ef"
      },
      "source": [
        "import matplotlib.pyplot as plt\n",
        "\n",
        "sns.set_style('whitegrid')\n",
        "sns.countplot(x='SPIDERS',data=df_hep,palette='RdBu_r')"
      ],
      "execution_count": 28,
      "outputs": [
        {
          "output_type": "execute_result",
          "data": {
            "text/plain": [
              "<matplotlib.axes._subplots.AxesSubplot at 0x7f8cbfb64be0>"
            ]
          },
          "metadata": {
            "tags": []
          },
          "execution_count": 28
        },
        {
          "output_type": "display_data",
          "data": {
            "image/png": "[encoded data removed]",
            "text/plain": [
              "<Figure size 432x288 with 1 Axes>"
            ]
          },
          "metadata": {
            "tags": []
          }
        }
      ]
    },
    {
      "cell_type": "code",
      "metadata": {
        "id": "D8qO1a-LWoB9",
        "colab": {
          "base_uri": "https://localhost:8080/",
          "height": 296
        },
        "outputId": "0cb78bf9-2d19-4c71-e8dc-73da85377c62"
      },
      "source": [
        "import matplotlib.pyplot as plt\n",
        "\n",
        "sns.set_style('whitegrid')\n",
        "sns.countplot(x='HISTOLOGY',data=df_hep,palette='RdBu_r')"
      ],
      "execution_count": 29,
      "outputs": [
        {
          "output_type": "execute_result",
          "data": {
            "text/plain": [
              "<matplotlib.axes._subplots.AxesSubplot at 0x7f8cbfb3a828>"
            ]
          },
          "metadata": {
            "tags": []
          },
          "execution_count": 29
        },
        {
          "output_type": "display_data",
          "data": {
            "image/png": "[encoded data removed]",
            "text/plain": [
              "<Figure size 432x288 with 1 Axes>"
            ]
          },
          "metadata": {
            "tags": []
          }
        }
      ]
    },
    {
      "cell_type": "markdown",
      "metadata": {
        "id": "T8ByLS8nETpA"
      },
      "source": [
        "### Accuracy using Euclidean distance"
      ]
    },
    {
      "cell_type": "code",
      "metadata": {
        "id": "lgqmqCybT1Yf",
        "colab": {
          "base_uri": "https://localhost:8080/"
        },
        "outputId": "118267e5-feb6-4a9d-8983-6e9e90e4bf2a"
      },
      "source": [
        "(N,D), C = X.shape, np.max(y) + 1\n",
        "# print(f'instances (N) \\t {N} \\n features (D) \\t {D} \\n classes (C) \\t {C}')\n",
        "# print(y.shape)\n",
        "\n",
        "X_train, y_train = X[:135], y[:135]\n",
        "X_test, y_test = X[20:], y[20:]\n",
        "\n",
        "for k in range(1,10):\n",
        "  model = KNN(k=k)\n",
        "  model.fit(X_train, y_train)\n",
        "  predictions = model.predict(X_test, \"euclidean\")\n",
        "  print(\"for k= \",k)\n",
        "  print(\"KNN accuracy: \", evaluate_acc(y_test, predictions))\n",
        "  accuracy = evaluate_acc(y_test, predictions)"
      ],
      "execution_count": 30,
      "outputs": [
        {
          "output_type": "stream",
          "text": [
            "for k=  1\n",
            "KNN accuracy:  0.9333333333333333\n",
            "for k=  2\n",
            "KNN accuracy:  0.9333333333333333\n",
            "for k=  3\n",
            "KNN accuracy:  0.8296296296296296\n",
            "for k=  4\n",
            "KNN accuracy:  0.8592592592592593\n",
            "for k=  5\n",
            "KNN accuracy:  0.8\n",
            "for k=  6\n",
            "KNN accuracy:  0.8666666666666667\n",
            "for k=  7\n",
            "KNN accuracy:  0.8148148148148148\n",
            "for k=  8\n",
            "KNN accuracy:  0.8518518518518519\n",
            "for k=  9\n",
            "KNN accuracy:  0.8444444444444444\n"
          ],
          "name": "stdout"
        }
      ]
    },
    {
      "cell_type": "markdown",
      "metadata": {
        "id": "AaXjEz02OwyT"
      },
      "source": [
        "#### Confusion Matrix"
      ]
    },
    {
      "cell_type": "code",
      "metadata": {
        "id": "rZz7tmVWOcD_",
        "colab": {
          "base_uri": "https://localhost:8080/"
        },
        "outputId": "aea2341b-06ce-4c18-e955-a53a5c489f45"
      },
      "source": [
        "model = KNN(k=1)\n",
        "model.fit(X_train, y_train)\n",
        "predictions = model.predict(X_test)\n",
        "print(\"Confusion Matrix:\")\n",
        "print(confusion_matrix(y_test,predictions))\n",
        "print(\"====\")\n",
        "print(\"Classification Report\")\n",
        "print(classification_report(y_test,predictions))"
      ],
      "execution_count": 31,
      "outputs": [
        {
          "output_type": "stream",
          "text": [
            "Confusion Matrix:\n",
            "[[27  4]\n",
            " [ 5 99]]\n",
            "====\n",
            "Classification Report\n",
            "              precision    recall  f1-score   support\n",
            "\n",
            "         0.0       0.84      0.87      0.86        31\n",
            "         1.0       0.96      0.95      0.96       104\n",
            "\n",
            "    accuracy                           0.93       135\n",
            "   macro avg       0.90      0.91      0.91       135\n",
            "weighted avg       0.93      0.93      0.93       135\n",
            "\n"
          ],
          "name": "stdout"
        }
      ]
    },
    {
      "cell_type": "markdown",
      "metadata": {
        "id": "P5xUo20BFZrn"
      },
      "source": [
        "### Accuracy using Manhattan distance"
      ]
    },
    {
      "cell_type": "code",
      "metadata": {
        "colab": {
          "base_uri": "https://localhost:8080/"
        },
        "id": "QHLe3KJuFY2W",
        "outputId": "606a45e7-3167-4350-ab66-1b571c13a91f"
      },
      "source": [
        "(N,D), C = X.shape, np.max(y) + 1\n",
        "# print(f'instances (N) \\t {N} \\n features (D) \\t {D} \\n classes (C) \\t {C}')\n",
        "# print(y.shape)\n",
        "\n",
        "X_train, y_train = X[:135], y[:135]\n",
        "X_test, y_test = X[20:], y[20:]\n",
        "\n",
        "for k in range(1,10):\n",
        "  model = KNN(k=k)\n",
        "  model.fit(X_train, y_train)\n",
        "  predictions = model.predict(X_test, \"manhattan\")\n",
        "  print(\"for k= \",k)\n",
        "  print(\"KNN accuracy: \", evaluate_acc(y_test, predictions))\n",
        "  accuracy = evaluate_acc(y_test, predictions)"
      ],
      "execution_count": 32,
      "outputs": [
        {
          "output_type": "stream",
          "text": [
            "for k=  1\n",
            "KNN accuracy:  0.9333333333333333\n",
            "for k=  2\n",
            "KNN accuracy:  0.9333333333333333\n",
            "for k=  3\n",
            "KNN accuracy:  0.8444444444444444\n",
            "for k=  4\n",
            "KNN accuracy:  0.8518518518518519\n",
            "for k=  5\n",
            "KNN accuracy:  0.8\n",
            "for k=  6\n",
            "KNN accuracy:  0.8592592592592593\n",
            "for k=  7\n",
            "KNN accuracy:  0.8148148148148148\n",
            "for k=  8\n",
            "KNN accuracy:  0.8444444444444444\n",
            "for k=  9\n",
            "KNN accuracy:  0.8518518518518519\n"
          ],
          "name": "stdout"
        }
      ]
    },
    {
      "cell_type": "code",
      "metadata": {
        "colab": {
          "base_uri": "https://localhost:8080/"
        },
        "id": "ZpuHjQq3F4wL",
        "outputId": "145fcf5b-3e4f-4e2b-8f45-9421e6478f7c"
      },
      "source": [
        "from sklearn.neighbors import KNeighborsClassifier\n",
        "neigh = KNeighborsClassifier(n_neighbors=1)\n",
        "neigh.fit(X_train, y_train)\n",
        "\n",
        "print(neigh.score(X_test, y_test))"
      ],
      "execution_count": 33,
      "outputs": [
        {
          "output_type": "stream",
          "text": [
            "0.9333333333333333\n"
          ],
          "name": "stdout"
        }
      ]
    },
    {
      "cell_type": "markdown",
      "metadata": {
        "id": "S9fw4kC2IlK5"
      },
      "source": [
        "#### Confusion Matrix"
      ]
    },
    {
      "cell_type": "code",
      "metadata": {
        "colab": {
          "base_uri": "https://localhost:8080/"
        },
        "id": "dnHLF48SF92F",
        "outputId": "73e01a4d-25e4-4c32-dbde-148f69f6d827"
      },
      "source": [
        "model = KNN(k=1)\n",
        "model.fit(X_train, y_train)\n",
        "predictions = model.predict(X_test)\n",
        "print(\"Confusion Matrix:\")\n",
        "print(confusion_matrix(y_test,predictions))\n",
        "print(\"====\")\n",
        "print(\"Classification Report\")\n",
        "print(classification_report(y_test,predictions))"
      ],
      "execution_count": 34,
      "outputs": [
        {
          "output_type": "stream",
          "text": [
            "Confusion Matrix:\n",
            "[[27  4]\n",
            " [ 5 99]]\n",
            "====\n",
            "Classification Report\n",
            "              precision    recall  f1-score   support\n",
            "\n",
            "         0.0       0.84      0.87      0.86        31\n",
            "         1.0       0.96      0.95      0.96       104\n",
            "\n",
            "    accuracy                           0.93       135\n",
            "   macro avg       0.90      0.91      0.91       135\n",
            "weighted avg       0.93      0.93      0.93       135\n",
            "\n"
          ],
          "name": "stdout"
        }
      ]
    },
    {
      "cell_type": "markdown",
      "metadata": {
        "id": "m6JX3TI5MNqf"
      },
      "source": [
        "### Accuracy from sci-kit learn"
      ]
    },
    {
      "cell_type": "code",
      "metadata": {
        "colab": {
          "base_uri": "https://localhost:8080/"
        },
        "id": "520t3H0OJIzZ",
        "outputId": "0131b5bc-a1ad-4031-a70a-1118daf3c6b5"
      },
      "source": [
        "from sklearn.neighbors import KNeighborsClassifier\n",
        "neigh = KNeighborsClassifier(n_neighbors=1)\n",
        "neigh.fit(X_train, y_train)\n",
        "\n",
        "print(neigh.score(X_test, y_test))"
      ],
      "execution_count": 35,
      "outputs": [
        {
          "output_type": "stream",
          "text": [
            "0.9333333333333333\n"
          ],
          "name": "stdout"
        }
      ]
    },
    {
      "cell_type": "markdown",
      "metadata": {
        "id": "J61EUvkgY_cM"
      },
      "source": [
        "## Decision Boundaries\n",
        "To draw the decision boundary we classify all the points on a 2D grid. The `meshgrid` function creates all the points on the grid by taking discretizations of horizontal and vertical axes."
      ]
    },
    {
      "cell_type": "code",
      "metadata": {
        "id": "rr0yYEnSZBwm",
        "colab": {
          "base_uri": "https://localhost:8080/",
          "height": 442
        },
        "outputId": "53e691f2-0488-4777-f504-25ecaf5a5ffb"
      },
      "source": [
        "# we can make the grid finer by increasing the number of samples from 200 to higher value\n",
        "# x0v = np.linspace(np.min(X[:,4]), np.max(X[:,4]), 80)\n",
        "# x1v = np.linspace(np.min(X[:,1]), np.max(X[:,1]), 80)\n",
        "\n",
        "# #to features values as a mesh  \n",
        "# x0, x1 = np.meshgrid(x0v, x1v)\n",
        "# x_all = np.vstack((x0.ravel(),x1.ravel())).T\n",
        "\n",
        "# for k in range(1,4):\n",
        "#   model = KNN(k=k)\n",
        "\n",
        "#   y_train_prob = np.zeros((y_train.shape[0], 3))\n",
        "#   y_train_prob[np.arange(y_train.shape[0]), y_train.astype(int)] = 1\n",
        "\n",
        "#   #to get class probability of all the points in the 2D grid\n",
        "#   print(X_train.shape)\n",
        "#   print(y_train.shape)\n",
        "#   print(type(model.fit(X_train, y_train)))\n",
        "#   y_prob_all, _ = model.fit(X_train, y_train).predict(x_all)\n",
        "\n",
        "#   y_pred_all = np.zeros_like(y_prob_all)\n",
        "#   y_pred_all[np.arange(x_all.shape[0]), np.argmax(y_prob_all, axis=-1)] = 1\n",
        "\n",
        "#   plt.scatter(x_train[:,0], x_train[:,1], c=y_train_prob, marker='o', alpha=1)\n",
        "#   plt.scatter(x_all[:,0], x_all[:,1], c=y_pred_all, marker='.', alpha=0.01)\n",
        "\n",
        "#   plt.show()"
      ],
      "execution_count": 36,
      "outputs": [
        {
          "output_type": "stream",
          "text": [
            "(135, 6)\n",
            "(135,)\n",
            "<class '__main__.KNN'>\n"
          ],
          "name": "stdout"
        },
        {
          "output_type": "error",
          "ename": "ValueError",
          "evalue": "ignored",
          "traceback": [
            "\u001b[0;31m---------------------------------------------------------------------------\u001b[0m",
            "\u001b[0;31mValueError\u001b[0m                                Traceback (most recent call last)",
            "\u001b[0;32m<ipython-input-36-a298f659db63>\u001b[0m in \u001b[0;36m<module>\u001b[0;34m()\u001b[0m\n\u001b[1;32m     17\u001b[0m   \u001b[0mprint\u001b[0m\u001b[0;34m(\u001b[0m\u001b[0my_train\u001b[0m\u001b[0;34m.\u001b[0m\u001b[0mshape\u001b[0m\u001b[0;34m)\u001b[0m\u001b[0;34m\u001b[0m\u001b[0;34m\u001b[0m\u001b[0m\n\u001b[1;32m     18\u001b[0m   \u001b[0mprint\u001b[0m\u001b[0;34m(\u001b[0m\u001b[0mtype\u001b[0m\u001b[0;34m(\u001b[0m\u001b[0mmodel\u001b[0m\u001b[0;34m.\u001b[0m\u001b[0mfit\u001b[0m\u001b[0;34m(\u001b[0m\u001b[0mX_train\u001b[0m\u001b[0;34m,\u001b[0m \u001b[0my_train\u001b[0m\u001b[0;34m)\u001b[0m\u001b[0;34m)\u001b[0m\u001b[0;34m)\u001b[0m\u001b[0;34m\u001b[0m\u001b[0;34m\u001b[0m\u001b[0m\n\u001b[0;32m---> 19\u001b[0;31m   \u001b[0my_prob_all\u001b[0m\u001b[0;34m,\u001b[0m \u001b[0m_\u001b[0m \u001b[0;34m=\u001b[0m \u001b[0mmodel\u001b[0m\u001b[0;34m.\u001b[0m\u001b[0mfit\u001b[0m\u001b[0;34m(\u001b[0m\u001b[0mX_train\u001b[0m\u001b[0;34m,\u001b[0m \u001b[0my_train\u001b[0m\u001b[0;34m)\u001b[0m\u001b[0;34m.\u001b[0m\u001b[0mpredict\u001b[0m\u001b[0;34m(\u001b[0m\u001b[0mx_all\u001b[0m\u001b[0;34m)\u001b[0m\u001b[0;34m\u001b[0m\u001b[0;34m\u001b[0m\u001b[0m\n\u001b[0m\u001b[1;32m     20\u001b[0m \u001b[0;34m\u001b[0m\u001b[0m\n\u001b[1;32m     21\u001b[0m   \u001b[0my_pred_all\u001b[0m \u001b[0;34m=\u001b[0m \u001b[0mnp\u001b[0m\u001b[0;34m.\u001b[0m\u001b[0mzeros_like\u001b[0m\u001b[0;34m(\u001b[0m\u001b[0my_prob_all\u001b[0m\u001b[0;34m)\u001b[0m\u001b[0;34m\u001b[0m\u001b[0;34m\u001b[0m\u001b[0m\n",
            "\u001b[0;32m<ipython-input-3-a5045622f4ab>\u001b[0m in \u001b[0;36mpredict\u001b[0;34m(self, X, distance)\u001b[0m\n\u001b[1;32m     33\u001b[0m \u001b[0;34m\u001b[0m\u001b[0m\n\u001b[1;32m     34\u001b[0m     \u001b[0;32mdef\u001b[0m \u001b[0mpredict\u001b[0m\u001b[0;34m(\u001b[0m\u001b[0mself\u001b[0m\u001b[0;34m,\u001b[0m \u001b[0mX\u001b[0m\u001b[0;34m,\u001b[0m \u001b[0mdistance\u001b[0m\u001b[0;34m=\u001b[0m\u001b[0;34m\"euclidean\"\u001b[0m\u001b[0;34m)\u001b[0m\u001b[0;34m:\u001b[0m\u001b[0;34m\u001b[0m\u001b[0;34m\u001b[0m\u001b[0m\n\u001b[0;32m---> 35\u001b[0;31m         \u001b[0my_pred\u001b[0m \u001b[0;34m=\u001b[0m \u001b[0;34m[\u001b[0m\u001b[0mself\u001b[0m\u001b[0;34m.\u001b[0m\u001b[0mhelper_predict\u001b[0m\u001b[0;34m(\u001b[0m\u001b[0mx\u001b[0m\u001b[0;34m,\u001b[0m \u001b[0mdistance\u001b[0m\u001b[0;34m)\u001b[0m \u001b[0;32mfor\u001b[0m \u001b[0mx\u001b[0m \u001b[0;32min\u001b[0m \u001b[0mX\u001b[0m\u001b[0;34m]\u001b[0m\u001b[0;34m\u001b[0m\u001b[0;34m\u001b[0m\u001b[0m\n\u001b[0m\u001b[1;32m     36\u001b[0m         \u001b[0;32mreturn\u001b[0m \u001b[0mnp\u001b[0m\u001b[0;34m.\u001b[0m\u001b[0marray\u001b[0m\u001b[0;34m(\u001b[0m\u001b[0my_pred\u001b[0m\u001b[0;34m)\u001b[0m\u001b[0;34m\u001b[0m\u001b[0;34m\u001b[0m\u001b[0m\n\u001b[1;32m     37\u001b[0m \u001b[0;34m\u001b[0m\u001b[0m\n",
            "\u001b[0;32m<ipython-input-3-a5045622f4ab>\u001b[0m in \u001b[0;36m<listcomp>\u001b[0;34m(.0)\u001b[0m\n\u001b[1;32m     33\u001b[0m \u001b[0;34m\u001b[0m\u001b[0m\n\u001b[1;32m     34\u001b[0m     \u001b[0;32mdef\u001b[0m \u001b[0mpredict\u001b[0m\u001b[0;34m(\u001b[0m\u001b[0mself\u001b[0m\u001b[0;34m,\u001b[0m \u001b[0mX\u001b[0m\u001b[0;34m,\u001b[0m \u001b[0mdistance\u001b[0m\u001b[0;34m=\u001b[0m\u001b[0;34m\"euclidean\"\u001b[0m\u001b[0;34m)\u001b[0m\u001b[0;34m:\u001b[0m\u001b[0;34m\u001b[0m\u001b[0;34m\u001b[0m\u001b[0m\n\u001b[0;32m---> 35\u001b[0;31m         \u001b[0my_pred\u001b[0m \u001b[0;34m=\u001b[0m \u001b[0;34m[\u001b[0m\u001b[0mself\u001b[0m\u001b[0;34m.\u001b[0m\u001b[0mhelper_predict\u001b[0m\u001b[0;34m(\u001b[0m\u001b[0mx\u001b[0m\u001b[0;34m,\u001b[0m \u001b[0mdistance\u001b[0m\u001b[0;34m)\u001b[0m \u001b[0;32mfor\u001b[0m \u001b[0mx\u001b[0m \u001b[0;32min\u001b[0m \u001b[0mX\u001b[0m\u001b[0;34m]\u001b[0m\u001b[0;34m\u001b[0m\u001b[0;34m\u001b[0m\u001b[0m\n\u001b[0m\u001b[1;32m     36\u001b[0m         \u001b[0;32mreturn\u001b[0m \u001b[0mnp\u001b[0m\u001b[0;34m.\u001b[0m\u001b[0marray\u001b[0m\u001b[0;34m(\u001b[0m\u001b[0my_pred\u001b[0m\u001b[0;34m)\u001b[0m\u001b[0;34m\u001b[0m\u001b[0;34m\u001b[0m\u001b[0m\n\u001b[1;32m     37\u001b[0m \u001b[0;34m\u001b[0m\u001b[0m\n",
            "\u001b[0;32m<ipython-input-3-a5045622f4ab>\u001b[0m in \u001b[0;36mhelper_predict\u001b[0;34m(self, x, distance)\u001b[0m\n\u001b[1;32m     38\u001b[0m     \u001b[0;32mdef\u001b[0m \u001b[0mhelper_predict\u001b[0m\u001b[0;34m(\u001b[0m\u001b[0mself\u001b[0m\u001b[0;34m,\u001b[0m \u001b[0mx\u001b[0m\u001b[0;34m,\u001b[0m \u001b[0mdistance\u001b[0m\u001b[0;34m)\u001b[0m\u001b[0;34m:\u001b[0m\u001b[0;34m\u001b[0m\u001b[0;34m\u001b[0m\u001b[0m\n\u001b[1;32m     39\u001b[0m         \u001b[0;32mif\u001b[0m \u001b[0;34m(\u001b[0m\u001b[0mdistance\u001b[0m \u001b[0;34m==\u001b[0m \u001b[0;34m\"euclidean\"\u001b[0m\u001b[0;34m)\u001b[0m\u001b[0;34m:\u001b[0m\u001b[0;34m\u001b[0m\u001b[0;34m\u001b[0m\u001b[0m\n\u001b[0;32m---> 40\u001b[0;31m           \u001b[0mdistances\u001b[0m \u001b[0;34m=\u001b[0m \u001b[0;34m[\u001b[0m\u001b[0meuclidean\u001b[0m\u001b[0;34m(\u001b[0m\u001b[0mx\u001b[0m\u001b[0;34m,\u001b[0m \u001b[0mx_train\u001b[0m\u001b[0;34m)\u001b[0m \u001b[0;32mfor\u001b[0m \u001b[0mx_train\u001b[0m \u001b[0;32min\u001b[0m \u001b[0mself\u001b[0m\u001b[0;34m.\u001b[0m\u001b[0mX_train\u001b[0m\u001b[0;34m]\u001b[0m\u001b[0;34m\u001b[0m\u001b[0;34m\u001b[0m\u001b[0m\n\u001b[0m\u001b[1;32m     41\u001b[0m         \u001b[0;32melse\u001b[0m\u001b[0;34m:\u001b[0m\u001b[0;34m\u001b[0m\u001b[0;34m\u001b[0m\u001b[0m\n\u001b[1;32m     42\u001b[0m           \u001b[0mdistances\u001b[0m \u001b[0;34m=\u001b[0m \u001b[0;34m[\u001b[0m\u001b[0mmanhattan\u001b[0m\u001b[0;34m(\u001b[0m\u001b[0mx\u001b[0m\u001b[0;34m,\u001b[0m \u001b[0mx_train\u001b[0m\u001b[0;34m)\u001b[0m \u001b[0;32mfor\u001b[0m \u001b[0mx_train\u001b[0m \u001b[0;32min\u001b[0m \u001b[0mself\u001b[0m\u001b[0;34m.\u001b[0m\u001b[0mX_train\u001b[0m\u001b[0;34m]\u001b[0m\u001b[0;34m\u001b[0m\u001b[0;34m\u001b[0m\u001b[0m\n",
            "\u001b[0;32m<ipython-input-3-a5045622f4ab>\u001b[0m in \u001b[0;36m<listcomp>\u001b[0;34m(.0)\u001b[0m\n\u001b[1;32m     38\u001b[0m     \u001b[0;32mdef\u001b[0m \u001b[0mhelper_predict\u001b[0m\u001b[0;34m(\u001b[0m\u001b[0mself\u001b[0m\u001b[0;34m,\u001b[0m \u001b[0mx\u001b[0m\u001b[0;34m,\u001b[0m \u001b[0mdistance\u001b[0m\u001b[0;34m)\u001b[0m\u001b[0;34m:\u001b[0m\u001b[0;34m\u001b[0m\u001b[0;34m\u001b[0m\u001b[0m\n\u001b[1;32m     39\u001b[0m         \u001b[0;32mif\u001b[0m \u001b[0;34m(\u001b[0m\u001b[0mdistance\u001b[0m \u001b[0;34m==\u001b[0m \u001b[0;34m\"euclidean\"\u001b[0m\u001b[0;34m)\u001b[0m\u001b[0;34m:\u001b[0m\u001b[0;34m\u001b[0m\u001b[0;34m\u001b[0m\u001b[0m\n\u001b[0;32m---> 40\u001b[0;31m           \u001b[0mdistances\u001b[0m \u001b[0;34m=\u001b[0m \u001b[0;34m[\u001b[0m\u001b[0meuclidean\u001b[0m\u001b[0;34m(\u001b[0m\u001b[0mx\u001b[0m\u001b[0;34m,\u001b[0m \u001b[0mx_train\u001b[0m\u001b[0;34m)\u001b[0m \u001b[0;32mfor\u001b[0m \u001b[0mx_train\u001b[0m \u001b[0;32min\u001b[0m \u001b[0mself\u001b[0m\u001b[0;34m.\u001b[0m\u001b[0mX_train\u001b[0m\u001b[0;34m]\u001b[0m\u001b[0;34m\u001b[0m\u001b[0;34m\u001b[0m\u001b[0m\n\u001b[0m\u001b[1;32m     41\u001b[0m         \u001b[0;32melse\u001b[0m\u001b[0;34m:\u001b[0m\u001b[0;34m\u001b[0m\u001b[0;34m\u001b[0m\u001b[0m\n\u001b[1;32m     42\u001b[0m           \u001b[0mdistances\u001b[0m \u001b[0;34m=\u001b[0m \u001b[0;34m[\u001b[0m\u001b[0mmanhattan\u001b[0m\u001b[0;34m(\u001b[0m\u001b[0mx\u001b[0m\u001b[0;34m,\u001b[0m \u001b[0mx_train\u001b[0m\u001b[0;34m)\u001b[0m \u001b[0;32mfor\u001b[0m \u001b[0mx_train\u001b[0m \u001b[0;32min\u001b[0m \u001b[0mself\u001b[0m\u001b[0;34m.\u001b[0m\u001b[0mX_train\u001b[0m\u001b[0;34m]\u001b[0m\u001b[0;34m\u001b[0m\u001b[0;34m\u001b[0m\u001b[0m\n",
            "\u001b[0;32m<ipython-input-3-a5045622f4ab>\u001b[0m in \u001b[0;36meuclidean\u001b[0;34m(x1, x2)\u001b[0m\n\u001b[1;32m     13\u001b[0m \u001b[0;31m#Define the distance formula.\u001b[0m\u001b[0;34m\u001b[0m\u001b[0;34m\u001b[0m\u001b[0;34m\u001b[0m\u001b[0m\n\u001b[1;32m     14\u001b[0m \u001b[0;32mdef\u001b[0m \u001b[0meuclidean\u001b[0m\u001b[0;34m(\u001b[0m\u001b[0mx1\u001b[0m\u001b[0;34m,\u001b[0m \u001b[0mx2\u001b[0m\u001b[0;34m)\u001b[0m\u001b[0;34m:\u001b[0m\u001b[0;34m\u001b[0m\u001b[0;34m\u001b[0m\u001b[0m\n\u001b[0;32m---> 15\u001b[0;31m    \u001b[0;32mreturn\u001b[0m \u001b[0mnp\u001b[0m\u001b[0;34m.\u001b[0m\u001b[0msqrt\u001b[0m\u001b[0;34m(\u001b[0m\u001b[0mnp\u001b[0m\u001b[0;34m.\u001b[0m\u001b[0msum\u001b[0m\u001b[0;34m(\u001b[0m\u001b[0;34m(\u001b[0m\u001b[0mx1\u001b[0m \u001b[0;34m-\u001b[0m \u001b[0mx2\u001b[0m\u001b[0;34m)\u001b[0m\u001b[0;34m**\u001b[0m\u001b[0;36m2\u001b[0m\u001b[0;34m)\u001b[0m\u001b[0;34m)\u001b[0m\u001b[0;34m\u001b[0m\u001b[0;34m\u001b[0m\u001b[0m\n\u001b[0m\u001b[1;32m     16\u001b[0m \u001b[0;34m\u001b[0m\u001b[0m\n\u001b[1;32m     17\u001b[0m \u001b[0;32mdef\u001b[0m \u001b[0mmanhattan\u001b[0m\u001b[0;34m(\u001b[0m\u001b[0mx1\u001b[0m\u001b[0;34m,\u001b[0m \u001b[0mx2\u001b[0m\u001b[0;34m)\u001b[0m\u001b[0;34m:\u001b[0m\u001b[0;34m\u001b[0m\u001b[0;34m\u001b[0m\u001b[0m\n",
            "\u001b[0;31mValueError\u001b[0m: operands could not be broadcast together with shapes (2,) (6,) "
          ]
        }
      ]
    }
  ]
}