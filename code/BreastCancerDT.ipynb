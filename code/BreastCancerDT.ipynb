{
  "nbformat": 4,
  "nbformat_minor": 0,
  "metadata": {
    "kernelspec": {
      "display_name": "Python 3",
      "language": "python",
      "name": "python3"
    },
    "language_info": {
      "codemirror_mode": {
        "name": "ipython",
        "version": 3
      },
      "file_extension": ".py",
      "mimetype": "text/x-python",
      "name": "python",
      "nbconvert_exporter": "python",
      "pygments_lexer": "ipython3",
      "version": "3.8.5"
    },
    "colab": {
      "name": "BCDT",
      "provenance": [],
      "collapsed_sections": []
    }
  },
  "cells": [
    {
      "cell_type": "markdown",
      "metadata": {
        "id": "Cb1hgpq992UR"
      },
      "source": [
        "# Decision Tree Algorithm "
      ]
    },
    {
      "cell_type": "markdown",
      "metadata": {
        "id": "9czgntjHFFTg"
      },
      "source": [
        "##Initialization"
      ]
    },
    {
      "cell_type": "code",
      "metadata": {
        "id": "tvP8QXcn92US",
        "colab": {
          "base_uri": "https://localhost:8080/"
        },
        "outputId": "af54a6d1-fe4a-42ec-d337-7743c856ec9a"
      },
      "source": [
        "import numpy as np\n",
        "%matplotlib inline\n",
        "import matplotlib.pyplot as plt\n",
        "from IPython.core.debugger import set_trace\n",
        "from sklearn.metrics import classification_report,confusion_matrix\n",
        "np.random.seed(1234)\n",
        "import seaborn as sns\n",
        "\n",
        "import pandas as pd\n",
        "from google.colab import drive\n",
        "drive.mount('/content/drive')"
      ],
      "execution_count": 12,
      "outputs": [
        {
          "output_type": "stream",
          "text": [
            "Drive already mounted at /content/drive; to attempt to forcibly remount, call drive.mount(\"/content/drive\", force_remount=True).\n"
          ],
          "name": "stdout"
        }
      ]
    },
    {
      "cell_type": "markdown",
      "metadata": {
        "id": "z_z4Qs8092UY"
      },
      "source": [
        "## Data structure\n",
        "We use a binary tree to assign information to the nodes of the decision tree. In particular, the instances associated with that node (`data_indices`) and the test that is used to further split that node, in the case non-leaf nodes (`split_feature, split_value`). Here, we assume each test involves a single feature, and all features are real-valued."
      ]
    },
    {
      "cell_type": "code",
      "metadata": {
        "id": "NEwmX3Xi92UY"
      },
      "source": [
        "class Node:\n",
        "    def __init__(self, data_indices, parent):\n",
        "        self.data_indices = data_indices                    #stores the data indices which are in the region defined by this node\n",
        "        self.left = None                                    #stores the left child of the node \n",
        "        self.right = None                                   #stores the right child of the node\n",
        "        self.split_feature = None                           #the feature for split at this node\n",
        "        self.split_value = None                             #the value of the feature for split at this node\n",
        "        if parent:\n",
        "            self.depth = parent.depth + 1                   #obtain the dept of the node by adding one to dept of the parent \n",
        "            self.num_classes = parent.num_classes           #copies the num classes from the parent \n",
        "            self.data = parent.data                         #copies the data from the parent\n",
        "            self.labels = parent.labels                     #copies the labels from the parent\n",
        "            class_prob = np.bincount(self.labels[data_indices], minlength=self.num_classes) #this is counting frequency of different labels in the region defined by this node\n",
        "            self.class_prob = class_prob / np.sum(class_prob)  #stores the class probability for the node\n",
        "            #note that we'll use the class probabilites of the leaf nodes for making predictions after the tree is built"
      ],
      "execution_count": 13,
      "outputs": []
    },
    {
      "cell_type": "markdown",
      "metadata": {
        "id": "W-9QNkez92Ub"
      },
      "source": [
        "## Greedy spliting of a node\n",
        "Given a node, we consider all possible feature-value combinations for splitting the data. One such **test** that produces the lowest cost according to a supplied cost function (`cost_fn`) is returned."
      ]
    },
    {
      "cell_type": "code",
      "metadata": {
        "id": "fJclNLqw92Ub"
      },
      "source": [
        "def greedy_test(node, cost_fn):\n",
        "    #initialize the best parameter values\n",
        "    best_cost = np.inf\n",
        "    best_feature, best_value = None, None\n",
        "    num_instances, num_features = node.data.shape\n",
        "    #sort the features to get the test value candidates by taking the average of consecutive sorted feature values \n",
        "    data_sorted = np.sort(node.data[node.data_indices],axis=0)\n",
        "    test_candidates = (data_sorted[1:] + data_sorted[:-1]) / 2.\n",
        "    for f in range(num_features):\n",
        "        #stores the data corresponding to the f-th feature\n",
        "        data_f = node.data[node.data_indices, f]\n",
        "        for test in test_candidates[:,f]:\n",
        "            #Split the indices using the test value of f-th feature\n",
        "            left_indices = node.data_indices[data_f <= test]\n",
        "            right_indices = node.data_indices[data_f > test]\n",
        "            #we can't have a split where a child has zero element\n",
        "            #if this is true over all the test features and their test values  then the function returns the best cost as infinity\n",
        "            if len(left_indices) == 0 or len(right_indices) == 0:                \n",
        "                continue\n",
        "            #compute the left and right cost based on the current split                                                         \n",
        "            left_cost = cost_fn(node.labels[left_indices])\n",
        "            right_cost = cost_fn(node.labels[right_indices])\n",
        "            num_left, num_right = left_indices.shape[0], right_indices.shape[0]\n",
        "            #get the combined cost using the weighted sum of left and right cost\n",
        "            cost = (num_left * left_cost + num_right * right_cost)/num_instances\n",
        "            #update only when a lower cost is encountered\n",
        "            if cost < best_cost:\n",
        "                best_cost = cost\n",
        "                best_feature = f\n",
        "                best_value = test\n",
        "    return best_cost, best_feature, best_value"
      ],
      "execution_count": 14,
      "outputs": []
    },
    {
      "cell_type": "markdown",
      "metadata": {
        "id": "-GjjJhkb92Ue"
      },
      "source": [
        "## Cost functions\n",
        "\n",
        "Below we implement two cost functions corresponding to misclassification rate and entropy."
      ]
    },
    {
      "cell_type": "code",
      "metadata": {
        "id": "_Fa_FkuK92Uf"
      },
      "source": [
        "#computes misclassification cost by subtracting the maximum probability of any class\n",
        "def cost_misclassification(labels):\n",
        "    counts = np.bincount(labels) \n",
        "    class_probs = counts / np.sum(counts)\n",
        "    #you could compress both the steps above by doing class_probs = np.bincount(labels) / len(labels)\n",
        "    return 1 - np.max(class_probs)\n",
        "\n",
        "#computes entropy of the labels by computing the class probabilities\n",
        "def cost_entropy(labels):\n",
        "    class_probs = np.bincount(labels) / len(labels)\n",
        "    class_probs = class_probs[class_probs > 0]              #this steps is remove 0 probabilities for removing numerical issues while computing log\n",
        "    return -np.sum(class_probs * np.log(class_probs))       #expression for entropy -\\sigma p(x)log[p(x)]\n",
        "\n",
        "#computes the gini index cost\n",
        "def cost_gini_index(labels):\n",
        "    class_probs = np.bincount(labels) / len(labels)\n",
        "    return 1 - np.sum(np.square(class_probs))               #expression for gini index 1-\\sigma p(x)^2"
      ],
      "execution_count": 15,
      "outputs": []
    },
    {
      "cell_type": "markdown",
      "metadata": {
        "id": "PDlnrs8U92Uh"
      },
      "source": [
        "we are now ready to implement the classifier:\n",
        "\n",
        "when to stop splitting?\n",
        "1. if there are not enough points under the current node (`min_leaf_instances`)\n",
        "2. if reached maximum depth (`max_depth`)\n",
        "3. if the decrease in the cost is negligible (not implemented)\n",
        "Below is the template for the class, next we implement `fit` and `predict` methods."
      ]
    },
    {
      "cell_type": "code",
      "metadata": {
        "id": "kMx7Brw292Uh"
      },
      "source": [
        "class DecisionTree:\n",
        "    def __init__(self, num_classes=None, max_depth=3, cost_fn=cost_gini_index, min_leaf_instances=1):\n",
        "        self.max_depth = max_depth      #maximum dept for termination \n",
        "        self.root = None                #stores the root of the decision tree \n",
        "        self.cost_fn = cost_fn          #stores the cost function of the decision tree \n",
        "        self.num_classes = num_classes  #stores the total number of classes\n",
        "        self.min_leaf_instances = min_leaf_instances  #minimum number of instances in a leaf for termination\n",
        "        \n",
        "    def fit(self, data, labels):\n",
        "        pass                            #pass in python 3 means nothing happens and the method here is empty\n",
        "    \n",
        "    def predict(self, data_test):\n",
        "        pass"
      ],
      "execution_count": 16,
      "outputs": []
    },
    {
      "cell_type": "markdown",
      "metadata": {
        "id": "Gbsp5yvB92Ul"
      },
      "source": [
        "## Fit\n",
        "To fit the tree to the data, we call the `_fit_tree` method on the `root_node` of the tree. In this method the _best_ test (split) for the current node is found, and the method is recursively called on the left and right child. If the `max_depth` is reached or the number of instances under the current node is below `min_leaf_instances` the node is not split anymore, resulting in a leaf node."
      ]
    },
    {
      "cell_type": "code",
      "metadata": {
        "id": "-NOsuJEc92Ul"
      },
      "source": [
        "def fit(self, data, labels):\n",
        "    self.data = data\n",
        "    self.labels = labels\n",
        "    if self.num_classes is None:\n",
        "        self.num_classes = np.max(labels) + 1\n",
        "    #below are initialization of the root of the decision tree\n",
        "    self.root = Node(np.arange(data.shape[0]), None)\n",
        "    self.root.data = data\n",
        "    self.root.labels = labels\n",
        "    self.root.num_classes = self.num_classes\n",
        "    self.root.depth = 0\n",
        "    #to recursively build the rest of the tree\n",
        "    self._fit_tree(self.root)\n",
        "    return self\n",
        "\n",
        "def _fit_tree(self, node):\n",
        "    #This gives the condition for termination of the recursion resulting in a leaf node\n",
        "    if node.depth == self.max_depth or len(node.data_indices) <= self.min_leaf_instances:\n",
        "        return\n",
        "    #greedily select the best test by minimizing the cost\n",
        "    cost, split_feature, split_value = greedy_test(node, self.cost_fn)\n",
        "    #if the cost returned is infinity it means that it is not possible to split the node and hence terminate\n",
        "    if np.isinf(cost):\n",
        "        return\n",
        "    #print(f'best feature: {split_feature}, value {split_value}, cost {cost}')\n",
        "    #to get a boolean array suggesting which data indices corresponding to this node are in the left of the split\n",
        "    test = node.data[node.data_indices,split_feature] <= split_value\n",
        "    #store the split feature and value of the node\n",
        "    node.split_feature = split_feature\n",
        "    node.split_value = split_value\n",
        "    #define new nodes which are going to be the left and right child of the present node\n",
        "    left = Node(node.data_indices[test], node)\n",
        "    right = Node(node.data_indices[np.logical_not(test)], node)\n",
        "    #recursive call to the _fit_tree()\n",
        "    self._fit_tree(left)\n",
        "    self._fit_tree(right)\n",
        "    #assign the left and right child to present child\n",
        "    node.left = left\n",
        "    node.right = right\n",
        "\n",
        "DecisionTree.fit = fit\n",
        "DecisionTree._fit_tree = _fit_tree"
      ],
      "execution_count": 17,
      "outputs": []
    },
    {
      "cell_type": "markdown",
      "metadata": {
        "id": "bAZdSNN392Ut"
      },
      "source": [
        "## New predictions\n",
        "Given a new instance, starting from the `root` of the `DecisionTree` we check to see if the instance falls in the left or right split, and repeat the process with left or right node depending on the test, until we reach a leaf node. The class probabilities of the training data under the leaf is returned."
      ]
    },
    {
      "cell_type": "code",
      "metadata": {
        "id": "dLmilufw92Uu"
      },
      "source": [
        "def predict(self, data_test):\n",
        "    class_probs = np.zeros((data_test.shape[0], self.num_classes))\n",
        "    for n, x in enumerate(data_test):\n",
        "        node = self.root\n",
        "        #loop along the dept of the tree looking region where the present data sample fall in based on the split feature and value\n",
        "        while node.left:\n",
        "            if x[node.split_feature] <= node.split_value:\n",
        "                node = node.left\n",
        "            else:\n",
        "                node = node.right\n",
        "        #the loop terminates when you reach a leaf of the tree and the class probability of that node is taken for prediction\n",
        "        class_probs[n,:] = node.class_prob\n",
        "    return class_probs\n",
        "\n",
        "DecisionTree.predict = predict"
      ],
      "execution_count": 18,
      "outputs": []
    },
    {
      "cell_type": "markdown",
      "metadata": {
        "id": "p1Eoy0VX92Ux"
      },
      "source": [
        "# Breast Cancer Dataset"
      ]
    },
    {
      "cell_type": "code",
      "metadata": {
        "id": "Foef6ptgdqly"
      },
      "source": [
        "raw_df = pd.read_csv(\"/content/drive/MyDrive/COMP551/Proj_1/breast_cancer_wisconsin.csv\")"
      ],
      "execution_count": 19,
      "outputs": []
    },
    {
      "cell_type": "code",
      "metadata": {
        "id": "4gjya9mHUnEy"
      },
      "source": [
        "df =raw_df[~raw_df.eq('?').any(1)]\n",
        "\n",
        "#df.drop_duplicates(inplace=True)\n",
        "\n",
        "df = df.apply(pd.to_numeric)\n",
        "\n",
        "df.drop(\"id\",axis=1, inplace=True)"
      ],
      "execution_count": 20,
      "outputs": []
    },
    {
      "cell_type": "code",
      "metadata": {
        "colab": {
          "base_uri": "https://localhost:8080/",
          "height": 347
        },
        "id": "3qXu1EEMUpFE",
        "outputId": "635395ad-1fab-40be-e53f-bd1533bdb40d"
      },
      "source": [
        "df.describe().T"
      ],
      "execution_count": 21,
      "outputs": [
        {
          "output_type": "execute_result",
          "data": {
            "text/html": [
              "<div>\n",
              "<style scoped>\n",
              "    .dataframe tbody tr th:only-of-type {\n",
              "        vertical-align: middle;\n",
              "    }\n",
              "\n",
              "    .dataframe tbody tr th {\n",
              "        vertical-align: top;\n",
              "    }\n",
              "\n",
              "    .dataframe thead th {\n",
              "        text-align: right;\n",
              "    }\n",
              "</style>\n",
              "<table border=\"1\" class=\"dataframe\">\n",
              "  <thead>\n",
              "    <tr style=\"text-align: right;\">\n",
              "      <th></th>\n",
              "      <th>count</th>\n",
              "      <th>mean</th>\n",
              "      <th>std</th>\n",
              "      <th>min</th>\n",
              "      <th>25%</th>\n",
              "      <th>50%</th>\n",
              "      <th>75%</th>\n",
              "      <th>max</th>\n",
              "    </tr>\n",
              "  </thead>\n",
              "  <tbody>\n",
              "    <tr>\n",
              "      <th>Clump_Thickness</th>\n",
              "      <td>683.0</td>\n",
              "      <td>4.442167</td>\n",
              "      <td>2.820761</td>\n",
              "      <td>1.0</td>\n",
              "      <td>2.0</td>\n",
              "      <td>4.0</td>\n",
              "      <td>6.0</td>\n",
              "      <td>10.0</td>\n",
              "    </tr>\n",
              "    <tr>\n",
              "      <th>Uniformity_of_Cell_Size</th>\n",
              "      <td>683.0</td>\n",
              "      <td>3.150805</td>\n",
              "      <td>3.065145</td>\n",
              "      <td>1.0</td>\n",
              "      <td>1.0</td>\n",
              "      <td>1.0</td>\n",
              "      <td>5.0</td>\n",
              "      <td>10.0</td>\n",
              "    </tr>\n",
              "    <tr>\n",
              "      <th>Uniformity_of_Cell_Shape</th>\n",
              "      <td>683.0</td>\n",
              "      <td>3.215227</td>\n",
              "      <td>2.988581</td>\n",
              "      <td>1.0</td>\n",
              "      <td>1.0</td>\n",
              "      <td>1.0</td>\n",
              "      <td>5.0</td>\n",
              "      <td>10.0</td>\n",
              "    </tr>\n",
              "    <tr>\n",
              "      <th>Marginal_Adhesion</th>\n",
              "      <td>683.0</td>\n",
              "      <td>2.830161</td>\n",
              "      <td>2.864562</td>\n",
              "      <td>1.0</td>\n",
              "      <td>1.0</td>\n",
              "      <td>1.0</td>\n",
              "      <td>4.0</td>\n",
              "      <td>10.0</td>\n",
              "    </tr>\n",
              "    <tr>\n",
              "      <th>Single_Epithelial_Cell_Size</th>\n",
              "      <td>683.0</td>\n",
              "      <td>3.234261</td>\n",
              "      <td>2.223085</td>\n",
              "      <td>1.0</td>\n",
              "      <td>2.0</td>\n",
              "      <td>2.0</td>\n",
              "      <td>4.0</td>\n",
              "      <td>10.0</td>\n",
              "    </tr>\n",
              "    <tr>\n",
              "      <th>Bare_Nuclei</th>\n",
              "      <td>683.0</td>\n",
              "      <td>3.544656</td>\n",
              "      <td>3.643857</td>\n",
              "      <td>1.0</td>\n",
              "      <td>1.0</td>\n",
              "      <td>1.0</td>\n",
              "      <td>6.0</td>\n",
              "      <td>10.0</td>\n",
              "    </tr>\n",
              "    <tr>\n",
              "      <th>Bland_Chromatin</th>\n",
              "      <td>683.0</td>\n",
              "      <td>3.445095</td>\n",
              "      <td>2.449697</td>\n",
              "      <td>1.0</td>\n",
              "      <td>2.0</td>\n",
              "      <td>3.0</td>\n",
              "      <td>5.0</td>\n",
              "      <td>10.0</td>\n",
              "    </tr>\n",
              "    <tr>\n",
              "      <th>Normal_Nucleoli</th>\n",
              "      <td>683.0</td>\n",
              "      <td>2.869693</td>\n",
              "      <td>3.052666</td>\n",
              "      <td>1.0</td>\n",
              "      <td>1.0</td>\n",
              "      <td>1.0</td>\n",
              "      <td>4.0</td>\n",
              "      <td>10.0</td>\n",
              "    </tr>\n",
              "    <tr>\n",
              "      <th>Mitoses</th>\n",
              "      <td>683.0</td>\n",
              "      <td>1.603221</td>\n",
              "      <td>1.732674</td>\n",
              "      <td>1.0</td>\n",
              "      <td>1.0</td>\n",
              "      <td>1.0</td>\n",
              "      <td>1.0</td>\n",
              "      <td>10.0</td>\n",
              "    </tr>\n",
              "    <tr>\n",
              "      <th>Class</th>\n",
              "      <td>683.0</td>\n",
              "      <td>2.699854</td>\n",
              "      <td>0.954592</td>\n",
              "      <td>2.0</td>\n",
              "      <td>2.0</td>\n",
              "      <td>2.0</td>\n",
              "      <td>4.0</td>\n",
              "      <td>4.0</td>\n",
              "    </tr>\n",
              "  </tbody>\n",
              "</table>\n",
              "</div>"
            ],
            "text/plain": [
              "                             count      mean       std  ...  50%  75%   max\n",
              "Clump_Thickness              683.0  4.442167  2.820761  ...  4.0  6.0  10.0\n",
              "Uniformity_of_Cell_Size      683.0  3.150805  3.065145  ...  1.0  5.0  10.0\n",
              "Uniformity_of_Cell_Shape     683.0  3.215227  2.988581  ...  1.0  5.0  10.0\n",
              "Marginal_Adhesion            683.0  2.830161  2.864562  ...  1.0  4.0  10.0\n",
              "Single_Epithelial_Cell_Size  683.0  3.234261  2.223085  ...  2.0  4.0  10.0\n",
              "Bare_Nuclei                  683.0  3.544656  3.643857  ...  1.0  6.0  10.0\n",
              "Bland_Chromatin              683.0  3.445095  2.449697  ...  3.0  5.0  10.0\n",
              "Normal_Nucleoli              683.0  2.869693  3.052666  ...  1.0  4.0  10.0\n",
              "Mitoses                      683.0  1.603221  1.732674  ...  1.0  1.0  10.0\n",
              "Class                        683.0  2.699854  0.954592  ...  2.0  4.0   4.0\n",
              "\n",
              "[10 rows x 8 columns]"
            ]
          },
          "metadata": {
            "tags": []
          },
          "execution_count": 21
        }
      ]
    },
    {
      "cell_type": "code",
      "metadata": {
        "colab": {
          "base_uri": "https://localhost:8080/",
          "height": 391
        },
        "id": "Ktfdytx2sLKU",
        "outputId": "99e5d552-62ba-4bf5-f1bb-43d1d9162a8d"
      },
      "source": [
        "sns.heatmap(df.corr(method=\"kendall\"));"
      ],
      "execution_count": 22,
      "outputs": [
        {
          "output_type": "display_data",
          "data": {
            "image/png": "[encoded data removed]",
            "text/plain": [
              "<Figure size 432x288 with 2 Axes>"
            ]
          },
          "metadata": {
            "tags": [],
            "needs_background": "light"
          }
        }
      ]
    },
    {
      "cell_type": "code",
      "metadata": {
        "colab": {
          "base_uri": "https://localhost:8080/",
          "height": 296
        },
        "id": "y3IFwXwxUqUu",
        "outputId": "15b9bcee-966e-474c-efb2-a9ec3232d1f9"
      },
      "source": [
        "sns.set_style('whitegrid')\n",
        "sns.countplot(x='Class',data=df,palette='RdBu_r')"
      ],
      "execution_count": 23,
      "outputs": [
        {
          "output_type": "execute_result",
          "data": {
            "text/plain": [
              "<matplotlib.axes._subplots.AxesSubplot at 0x7f762d0ce1d0>"
            ]
          },
          "metadata": {
            "tags": []
          },
          "execution_count": 23
        },
        {
          "output_type": "display_data",
          "data": {
            "image/png": "[encoded data removed]",
            "text/plain": [
              "<Figure size 432x288 with 1 Axes>"
            ]
          },
          "metadata": {
            "tags": []
          }
        }
      ]
    },
    {
      "cell_type": "code",
      "metadata": {
        "colab": {
          "base_uri": "https://localhost:8080/",
          "height": 297
        },
        "id": "5ugs4qDPUrZH",
        "outputId": "aa59a935-2413-4f2c-82cc-22939a40e298"
      },
      "source": [
        "sns.set_style('whitegrid')\n",
        "sns.countplot(x='Clump_Thickness',data=df,palette='RdBu_r')"
      ],
      "execution_count": 24,
      "outputs": [
        {
          "output_type": "execute_result",
          "data": {
            "text/plain": [
              "<matplotlib.axes._subplots.AxesSubplot at 0x7f762d0b7a90>"
            ]
          },
          "metadata": {
            "tags": []
          },
          "execution_count": 24
        },
        {
          "output_type": "display_data",
          "data": {
            "image/png": "[encoded data removed]",
            "text/plain": [
              "<Figure size 432x288 with 1 Axes>"
            ]
          },
          "metadata": {
            "tags": []
          }
        }
      ]
    },
    {
      "cell_type": "code",
      "metadata": {
        "colab": {
          "base_uri": "https://localhost:8080/",
          "height": 297
        },
        "id": "P7D3D3BEUscm",
        "outputId": "48ce170b-88b6-40a1-da50-c6d7a9cae73d"
      },
      "source": [
        "sns.set_style('whitegrid')\n",
        "sns.countplot(x='Uniformity_of_Cell_Size',data=df,palette='RdBu_r')"
      ],
      "execution_count": 25,
      "outputs": [
        {
          "output_type": "execute_result",
          "data": {
            "text/plain": [
              "<matplotlib.axes._subplots.AxesSubplot at 0x7f76359a3710>"
            ]
          },
          "metadata": {
            "tags": []
          },
          "execution_count": 25
        },
        {
          "output_type": "display_data",
          "data": {
            "image/png": "[encoded data removed]",
            "text/plain": [
              "<Figure size 432x288 with 1 Axes>"
            ]
          },
          "metadata": {
            "tags": []
          }
        }
      ]
    },
    {
      "cell_type": "code",
      "metadata": {
        "colab": {
          "base_uri": "https://localhost:8080/",
          "height": 297
        },
        "id": "UHDIPEO-Utww",
        "outputId": "a592f8f4-b567-4779-c587-3623e5020a95"
      },
      "source": [
        "sns.set_style('whitegrid')\n",
        "sns.countplot(x='Uniformity_of_Cell_Shape',data=df,palette='RdBu_r')\n"
      ],
      "execution_count": 26,
      "outputs": [
        {
          "output_type": "execute_result",
          "data": {
            "text/plain": [
              "<matplotlib.axes._subplots.AxesSubplot at 0x7f762d1116a0>"
            ]
          },
          "metadata": {
            "tags": []
          },
          "execution_count": 26
        },
        {
          "output_type": "display_data",
          "data": {
            "image/png": "[encoded data removed]",
            "text/plain": [
              "<Figure size 432x288 with 1 Axes>"
            ]
          },
          "metadata": {
            "tags": []
          }
        }
      ]
    },
    {
      "cell_type": "code",
      "metadata": {
        "colab": {
          "base_uri": "https://localhost:8080/",
          "height": 297
        },
        "id": "6gcJBg20Uuxd",
        "outputId": "6f143a88-9feb-426b-a95b-fe00b313d44c"
      },
      "source": [
        "sns.set_style('whitegrid')\n",
        "sns.countplot(x='Bare_Nuclei',data=df,palette='RdBu_r')"
      ],
      "execution_count": 27,
      "outputs": [
        {
          "output_type": "execute_result",
          "data": {
            "text/plain": [
              "<matplotlib.axes._subplots.AxesSubplot at 0x7f7635977a58>"
            ]
          },
          "metadata": {
            "tags": []
          },
          "execution_count": 27
        },
        {
          "output_type": "display_data",
          "data": {
            "image/png": "[encoded data removed]",
            "text/plain": [
              "<Figure size 432x288 with 1 Axes>"
            ]
          },
          "metadata": {
            "tags": []
          }
        }
      ]
    },
    {
      "cell_type": "code",
      "metadata": {
        "colab": {
          "base_uri": "https://localhost:8080/",
          "height": 297
        },
        "id": "9XLAcnEfUv7q",
        "outputId": "a897dc85-520d-4eb4-c6c1-fb76f7261087"
      },
      "source": [
        "sns.set_style('whitegrid')\n",
        "sns.countplot(x='Normal_Nucleoli',data=df,palette='RdBu_r')"
      ],
      "execution_count": 28,
      "outputs": [
        {
          "output_type": "execute_result",
          "data": {
            "text/plain": [
              "<matplotlib.axes._subplots.AxesSubplot at 0x7f762cb0c6d8>"
            ]
          },
          "metadata": {
            "tags": []
          },
          "execution_count": 28
        },
        {
          "output_type": "display_data",
          "data": {
            "image/png": "[encoded data removed]",
            "text/plain": [
              "<Figure size 432x288 with 1 Axes>"
            ]
          },
          "metadata": {
            "tags": []
          }
        }
      ]
    },
    {
      "cell_type": "code",
      "metadata": {
        "colab": {
          "base_uri": "https://localhost:8080/",
          "height": 296
        },
        "id": "1nAzZIqMUyjJ",
        "outputId": "add7ba02-492e-48b0-8034-ef0b54799cd8"
      },
      "source": [
        "sns.set_style('whitegrid')\n",
        "sns.countplot(x='Mitoses',data=df,palette='RdBu_r')\n"
      ],
      "execution_count": 29,
      "outputs": [
        {
          "output_type": "execute_result",
          "data": {
            "text/plain": [
              "<matplotlib.axes._subplots.AxesSubplot at 0x7f762ca85978>"
            ]
          },
          "metadata": {
            "tags": []
          },
          "execution_count": 29
        },
        {
          "output_type": "display_data",
          "data": {
            "image/png": "[encoded data removed]",
            "text/plain": [
              "<Figure size 432x288 with 1 Axes>"
            ]
          },
          "metadata": {
            "tags": []
          }
        }
      ]
    },
    {
      "cell_type": "code",
      "metadata": {
        "id": "Cn9FrUXkUzHQ"
      },
      "source": [
        "X, y = df.iloc[0:,0:9], df.iloc[:,9]\n",
        "\n",
        "X=X.values\n",
        "y=y.values\n",
        "\n",
        "(N,D), C = X.shape, np.max(y)+1\n",
        "#print(f'instances (N) \\t {N} \\n features (D) \\t {D} \\n classes (C) \\t {C}')\n",
        "#print(y.shape)\n",
        "\n",
        "def custom_train_and_test_split(X, y):\n",
        "    arrRand = np.random.rand(X.shape[0])\n",
        "    custom_split = arrRand < np.percentile(arrRand, 70)\n",
        "\n",
        "    X_train = X[custom_split]\n",
        "    y_train = y[custom_split]\n",
        "    X_test =  X[~custom_split]\n",
        "    y_test = y[~custom_split]\n",
        "\n",
        "    return X_train, X_test, y_train, y_test\n",
        "\n",
        "X_train, X_test, y_train, y_test = custom_train_and_test_split(X,y)\n",
        "y_test_norm = (y_test-y_test.min())/(y_test.max()- y_test.min())"
      ],
      "execution_count": 33,
      "outputs": []
    },
    {
      "cell_type": "markdown",
      "metadata": {
        "id": "FlTsz-WPU-no"
      },
      "source": [
        "### Accuracy using Decision Tree (cost function - Misclassification)"
      ]
    },
    {
      "cell_type": "code",
      "metadata": {
        "colab": {
          "base_uri": "https://localhost:8080/"
        },
        "id": "_8ODPwFYU8zK",
        "outputId": "65cf2878-c99f-427b-d40b-8d6cd21570ac"
      },
      "source": [
        "for i in range(1, 30):\n",
        "  tree = DecisionTree(max_depth=i, cost_fn=cost_misclassification)\n",
        "  probs_test = tree.fit((X_train), y_train).predict(X_test)\n",
        "  y_pred = np.argmax(probs_test,1)\n",
        "  accuracy = np.sum(y_pred == y_test)/y_test.shape[0]\n",
        "  print(\"for\" + str(i))\n",
        "  print(f'accuracy is {accuracy*100:.1f}.')"
      ],
      "execution_count": 48,
      "outputs": [
        {
          "output_type": "stream",
          "text": [
            "for1\n",
            "accuracy is 95.1.\n",
            "for2\n",
            "accuracy is 97.1.\n",
            "for3\n",
            "accuracy is 96.1.\n",
            "for4\n",
            "accuracy is 97.1.\n",
            "for5\n",
            "accuracy is 97.1.\n",
            "for6\n",
            "accuracy is 97.1.\n",
            "for7\n",
            "accuracy is 96.1.\n",
            "for8\n",
            "accuracy is 96.6.\n",
            "for9\n",
            "accuracy is 96.6.\n",
            "for10\n",
            "accuracy is 96.6.\n",
            "for11\n",
            "accuracy is 96.6.\n",
            "for12\n",
            "accuracy is 96.6.\n",
            "for13\n",
            "accuracy is 96.6.\n",
            "for14\n",
            "accuracy is 96.6.\n",
            "for15\n",
            "accuracy is 95.6.\n",
            "for16\n",
            "accuracy is 95.6.\n",
            "for17\n",
            "accuracy is 95.6.\n",
            "for18\n",
            "accuracy is 95.6.\n",
            "for19\n",
            "accuracy is 95.6.\n",
            "for20\n",
            "accuracy is 95.6.\n",
            "for21\n",
            "accuracy is 95.6.\n",
            "for22\n",
            "accuracy is 95.6.\n",
            "for23\n",
            "accuracy is 95.6.\n",
            "for24\n",
            "accuracy is 95.6.\n",
            "for25\n",
            "accuracy is 95.6.\n",
            "for26\n",
            "accuracy is 95.6.\n",
            "for27\n",
            "accuracy is 95.6.\n",
            "for28\n",
            "accuracy is 95.6.\n",
            "for29\n",
            "accuracy is 95.6.\n"
          ],
          "name": "stdout"
        }
      ]
    },
    {
      "cell_type": "code",
      "metadata": {
        "colab": {
          "base_uri": "https://localhost:8080/"
        },
        "id": "EiNK1RsnUY5e",
        "outputId": "6ddab865-6fe9-4558-e67a-29b16ec3b1a2"
      },
      "source": [
        "tree = DecisionTree(max_depth=10, cost_fn=cost_misclassification)\n",
        "tree.fit(X_train, y_train.astype(int))\n",
        "predictions = tree.predict(X_test)\n",
        "\n",
        "print(\"Confusion Matrix:\")\n",
        "\n",
        "print(confusion_matrix(y_test_norm, predictions[:,4].astype(int)))\n",
        "print(\"Classification Report\")\n",
        "print(classification_report(y_test_norm, predictions[:,4].astype(int)))"
      ],
      "execution_count": 50,
      "outputs": [
        {
          "output_type": "stream",
          "text": [
            "Confusion Matrix:\n",
            "[[136   3]\n",
            " [ 22  44]]\n",
            "Classification Report\n",
            "              precision    recall  f1-score   support\n",
            "\n",
            "         0.0       0.86      0.98      0.92       139\n",
            "         1.0       0.94      0.67      0.78        66\n",
            "\n",
            "    accuracy                           0.88       205\n",
            "   macro avg       0.90      0.82      0.85       205\n",
            "weighted avg       0.89      0.88      0.87       205\n",
            "\n"
          ],
          "name": "stdout"
        }
      ]
    },
    {
      "cell_type": "markdown",
      "metadata": {
        "id": "PTflvm2xVH4C"
      },
      "source": [
        "### Accuracy using Decision Tree (cost function - Cost Entropy)"
      ]
    },
    {
      "cell_type": "code",
      "metadata": {
        "id": "Y6Q0Ct6MVRRT",
        "colab": {
          "base_uri": "https://localhost:8080/"
        },
        "outputId": "0bce4d51-2543-48be-b513-2d05676916f7"
      },
      "source": [
        "for i in range(1, 10):\n",
        "  tree = DecisionTree(max_depth=i, cost_fn=cost_entropy)\n",
        "  probs_test = tree.fit(X_train, y_train).predict(X_test)\n",
        "  y_pred = np.argmax(probs_test,1)\n",
        "  accuracy = np.sum(y_pred == y_test)/y_test.shape[0]\n",
        "  print(\"for\" + str(i))\n",
        "  print(f'accuracy is {accuracy*100:.1f}.')"
      ],
      "execution_count": 51,
      "outputs": [
        {
          "output_type": "stream",
          "text": [
            "for1\n",
            "accuracy is 94.6.\n",
            "for2\n",
            "accuracy is 92.7.\n",
            "for3\n",
            "accuracy is 95.6.\n",
            "for4\n",
            "accuracy is 95.1.\n",
            "for5\n",
            "accuracy is 96.1.\n",
            "for6\n",
            "accuracy is 96.6.\n",
            "for7\n",
            "accuracy is 94.6.\n",
            "for8\n",
            "accuracy is 95.6.\n",
            "for9\n",
            "accuracy is 95.6.\n"
          ],
          "name": "stdout"
        }
      ]
    },
    {
      "cell_type": "code",
      "metadata": {
        "id": "vexQTWGWVDFS",
        "colab": {
          "base_uri": "https://localhost:8080/"
        },
        "outputId": "39c30ee0-3767-4599-f99c-6db7d44ea325"
      },
      "source": [
        "tree = DecisionTree(max_depth=10, cost_fn=cost_entropy)\n",
        "tree.fit(X_train, y_train.astype(int))\n",
        "predictions = tree.predict(X_test)\n",
        "\n",
        "print(\"Confusion Matrix:\")\n",
        "\n",
        "print(confusion_matrix(y_test_norm, predictions[:,4].astype(int)))\n",
        "print(\"Classification Report\")\n",
        "print(classification_report(y_test_norm, predictions[:,4].astype(int)))"
      ],
      "execution_count": 52,
      "outputs": [
        {
          "output_type": "stream",
          "text": [
            "Confusion Matrix:\n",
            "[[136   3]\n",
            " [  6  60]]\n",
            "Classification Report\n",
            "              precision    recall  f1-score   support\n",
            "\n",
            "         0.0       0.96      0.98      0.97       139\n",
            "         1.0       0.95      0.91      0.93        66\n",
            "\n",
            "    accuracy                           0.96       205\n",
            "   macro avg       0.96      0.94      0.95       205\n",
            "weighted avg       0.96      0.96      0.96       205\n",
            "\n"
          ],
          "name": "stdout"
        }
      ]
    },
    {
      "cell_type": "markdown",
      "metadata": {
        "id": "3_mp5jE2VJnv"
      },
      "source": [
        "### Accuracy using Decision Tree (cost function - Gini Index)"
      ]
    },
    {
      "cell_type": "code",
      "metadata": {
        "id": "LZKQ61ktVT6C",
        "colab": {
          "base_uri": "https://localhost:8080/"
        },
        "outputId": "3ae999a3-6935-4ac6-e74a-539a4efd62f1"
      },
      "source": [
        "for i in range(10, 20):\n",
        "  tree = DecisionTree(max_depth=i, cost_fn=cost_gini_index)\n",
        "  probs_test = tree.fit(X_train, y_train).predict(X_test)\n",
        "  y_pred = np.argmax(probs_test,1)\n",
        "  accuracy = np.sum(y_pred == y_test)/y_test.shape[0]\n",
        "  print(\"for\" + str(i))\n",
        "  print(f'accuracy is {accuracy*100:.1f}.')"
      ],
      "execution_count": 53,
      "outputs": [
        {
          "output_type": "stream",
          "text": [
            "for10\n",
            "accuracy is 94.1.\n",
            "for11\n",
            "accuracy is 94.1.\n",
            "for12\n",
            "accuracy is 94.1.\n",
            "for13\n",
            "accuracy is 94.1.\n",
            "for14\n",
            "accuracy is 94.1.\n",
            "for15\n",
            "accuracy is 94.1.\n",
            "for16\n",
            "accuracy is 94.1.\n",
            "for17\n",
            "accuracy is 94.1.\n",
            "for18\n",
            "accuracy is 94.1.\n",
            "for19\n",
            "accuracy is 94.1.\n"
          ],
          "name": "stdout"
        }
      ]
    },
    {
      "cell_type": "code",
      "metadata": {
        "id": "FwCdAJvyM0Es",
        "colab": {
          "base_uri": "https://localhost:8080/"
        },
        "outputId": "79797352-187e-445c-a2f1-0535263d0b42"
      },
      "source": [
        "tree = DecisionTree(max_depth=10, cost_fn=cost_entropy)\n",
        "tree.fit(X_train, y_train.astype(int))\n",
        "predictions = tree.predict(X_test)\n",
        "\n",
        "print(\"Confusion Matrix:\")\n",
        "\n",
        "print(confusion_matrix(y_test_norm, predictions[:,4].astype(int)))\n",
        "print(\"Classification Report\")\n",
        "print(classification_report(y_test_norm, predictions[:,4].astype(int)))"
      ],
      "execution_count": 55,
      "outputs": [
        {
          "output_type": "stream",
          "text": [
            "Confusion Matrix:\n",
            "[[136   3]\n",
            " [  6  60]]\n",
            "Classification Report\n",
            "              precision    recall  f1-score   support\n",
            "\n",
            "         0.0       0.96      0.98      0.97       139\n",
            "         1.0       0.95      0.91      0.93        66\n",
            "\n",
            "    accuracy                           0.96       205\n",
            "   macro avg       0.96      0.94      0.95       205\n",
            "weighted avg       0.96      0.96      0.96       205\n",
            "\n"
          ],
          "name": "stdout"
        }
      ]
    },
    {
      "cell_type": "markdown",
      "metadata": {
        "id": "MpRbAHZisd6v"
      },
      "source": [
        "### Decision Boundary for Breast Cancer"
      ]
    },
    {
      "cell_type": "markdown",
      "metadata": {
        "id": "3aJbD0MD92U8"
      },
      "source": [
        "next we fit the tree to the training data and predict on the test data. "
      ]
    },
    {
      "cell_type": "code",
      "metadata": {
        "id": "VS2kqHHS0HwI",
        "colab": {
          "base_uri": "https://localhost:8080/",
          "height": 278
        },
        "outputId": "f58c9ecd-54c7-4d69-f118-afb7e3d0c919"
      },
      "source": [
        "# print(X[:,1]) # Uniformity of cell size\n",
        "# print(X[:,2]) # Uniformity of cell shape\n",
        "\n",
        "x0v = np.linspace(np.min(X[:,1]), np.max(X[:,1]), 150)\n",
        "x1v = np.linspace(np.min(X[:,2]), np.max(X[:,2]), 150)\n",
        "x0,x1 = np.meshgrid(x0v, x1v)\n",
        "x_all = np.vstack((x0.ravel(),x1.ravel())).T\n",
        "\n",
        "model = DecisionTree(max_depth=10)\n",
        "\n",
        "y_train_prob = np.zeros((y_train.shape[0], 2))\n",
        "\n",
        "y_new=((y_train-y_train.min())/(y_train.max()-y_train.min())).astype(int)\n",
        "\n",
        "y_train_prob[np.arange(y_new.shape[0]), y_new] = 1\n",
        "\n",
        "X_train_new = X_train[:,[1,2]]\n",
        "\n",
        "y_prob_all = model.fit(X_train_new, y_new).predict(x_all)\n",
        "\n",
        "plt.scatter(x_all[:,0], x_all[:,1], c=y_prob_all[:,0], marker='o', alpha=.0091) \n",
        "plt.scatter(X_train_new[:,0], X_train_new[:,1],c=y_train_prob[:,0], marker='x', alpha = 1)\n",
        "plt.xlabel('Uniformity of Cell size')\n",
        "plt.ylabel('Uniformity of Cell shape')\n",
        "\n",
        "plt.show()"
      ],
      "execution_count": 56,
      "outputs": [
        {
          "output_type": "display_data",
          "data": {
            "image/png": "[encoded data removed]",
            "text/plain": [
              "<Figure size 432x288 with 1 Axes>"
            ]
          },
          "metadata": {
            "tags": []
          }
        }
      ]
    }
  ]
}